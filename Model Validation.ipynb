{
 "cells": [
  {
   "cell_type": "markdown",
   "metadata": {
    "id": "inuAq7EWI1WW"
   },
   "source": [
    "# Binary Classification"
   ]
  },
  {
   "cell_type": "markdown",
   "metadata": {
    "id": "2VjOp5sRI83_"
   },
   "source": [
    "### Problem Statement\n",
    "\n",
    "> Churn adalah salah satu peristiwa atau perilaku pelanggan beralih dari produk setelah (dalam jangka waktu tertentu) berlangganan produk. Produk dapat berupa barang atau jasa, seperti jaringan internet, penyedia telekomunikasi, dan sejenisnya. Dalam hal ini produk yang dianalisa adalah perusahaan telekomunikasi. Skema churn dapat dijelaskan dalam beberapa tahap. Tahap pertama, tahap ketika pelanggan berlangganan produk. Tahap kedua, yaitu rutinitas, atau perilaku pelanggan atau umpan balik pelanggan terhadap produk yang digunakan selama periode tertentu. Setelah itu, pada tahap ketiga, ada dua jenis, retensi (berlangganan kembali) atau churn (beralih atau berhenti berlangganan). Setiap perusahaan pasti ingin meminimalkan churn dan memaksimalkan retensi. Salah satu solusi yang dapat digunakan adalah dengan menggunakan prediksi churn pelanggan. Dengan ini, perusahaan dapat mengetahui karakteristik yang cenderung beralih atau berhenti berlangganan.\n",
    "\n",
    "### Deskripsi Data\n",
    "\n",
    "1.   Gender: Jenis kelamin pelanggan (Male, Female)\n",
    "2.   Partner: Status pernikahan pelanggan (yes, no)\n",
    "3.   Tenure: Lama beralangganan (integer; bulan)\n",
    "4.   PhoneService: Apakah pelanggan menggunakan telfon (yes, no)\n",
    "5.   PaperlessBilling:  Apakah pelanggan menggunakan paperless billing (yes, no)\n",
    "6.   MonthlyCharges: Biaya bulanan (numeric; usd)\n",
    "7.   Churn: Apakah pelanggan berhenti berlangganan atau tidak (yes, no)\n",
    "\n",
    "> Dalam kasus ini kita akan melakukan prediksi Churn sebagai variabel respon.\n",
    "\n",
    "\n"
   ]
  },
  {
   "cell_type": "markdown",
   "metadata": {
    "id": "L8vKCLJ0QT4X"
   },
   "source": [
    "## 1. Import Libraries and Data"
   ]
  },
  {
   "cell_type": "markdown",
   "metadata": {
    "id": "SFdgNnqVQivm"
   },
   "source": [
    "IMPORT PACKAGES"
   ]
  },
  {
   "cell_type": "code",
   "execution_count": 1,
   "metadata": {
    "id": "HqKI5H8QsxYJ"
   },
   "outputs": [],
   "source": [
    "# Import Package\n",
    "import pandas as pd\n",
    "import numpy as np\n",
    "\n",
    "# Package untuk visualisasi\n",
    "import matplotlib.pyplot as plt\n",
    "import seaborn as sns\n",
    "\n",
    "# Package untuk cleaning, modelling, dan evaluation model\n",
    "import statsmodels.api as sm\n",
    "from sklearn.preprocessing import LabelEncoder, StandardScaler, MinMaxScaler\n",
    "from sklearn.model_selection import train_test_split, cross_validate, cross_val_score, KFold, StratifiedKFold, GridSearchCV\n",
    "from sklearn.metrics import accuracy_score, precision_score, recall_score, f1_score\n",
    "from sklearn.linear_model import LogisticRegression\n",
    "from sklearn.svm import SVC"
   ]
  },
  {
   "cell_type": "markdown",
   "metadata": {
    "id": "_lEFjWLjQx60"
   },
   "source": [
    "IMPORT DATA"
   ]
  },
  {
   "cell_type": "code",
   "execution_count": 2,
   "metadata": {
    "id": "wH-A7IcNsy98"
   },
   "outputs": [
    {
     "data": {
      "text/html": [
       "<div>\n",
       "<style scoped>\n",
       "    .dataframe tbody tr th:only-of-type {\n",
       "        vertical-align: middle;\n",
       "    }\n",
       "\n",
       "    .dataframe tbody tr th {\n",
       "        vertical-align: top;\n",
       "    }\n",
       "\n",
       "    .dataframe thead th {\n",
       "        text-align: right;\n",
       "    }\n",
       "</style>\n",
       "<table border=\"1\" class=\"dataframe\">\n",
       "  <thead>\n",
       "    <tr style=\"text-align: right;\">\n",
       "      <th></th>\n",
       "      <th>gender</th>\n",
       "      <th>Partner</th>\n",
       "      <th>tenure</th>\n",
       "      <th>PhoneService</th>\n",
       "      <th>PaperlessBilling</th>\n",
       "      <th>MonthlyCharges</th>\n",
       "      <th>Churn</th>\n",
       "    </tr>\n",
       "  </thead>\n",
       "  <tbody>\n",
       "    <tr>\n",
       "      <th>0</th>\n",
       "      <td>Female</td>\n",
       "      <td>Yes</td>\n",
       "      <td>1</td>\n",
       "      <td>No</td>\n",
       "      <td>Yes</td>\n",
       "      <td>29.85</td>\n",
       "      <td>No</td>\n",
       "    </tr>\n",
       "    <tr>\n",
       "      <th>1</th>\n",
       "      <td>Male</td>\n",
       "      <td>No</td>\n",
       "      <td>34</td>\n",
       "      <td>Yes</td>\n",
       "      <td>No</td>\n",
       "      <td>56.95</td>\n",
       "      <td>No</td>\n",
       "    </tr>\n",
       "    <tr>\n",
       "      <th>2</th>\n",
       "      <td>Male</td>\n",
       "      <td>No</td>\n",
       "      <td>2</td>\n",
       "      <td>Yes</td>\n",
       "      <td>Yes</td>\n",
       "      <td>53.85</td>\n",
       "      <td>Yes</td>\n",
       "    </tr>\n",
       "    <tr>\n",
       "      <th>3</th>\n",
       "      <td>Male</td>\n",
       "      <td>No</td>\n",
       "      <td>45</td>\n",
       "      <td>No</td>\n",
       "      <td>No</td>\n",
       "      <td>42.30</td>\n",
       "      <td>No</td>\n",
       "    </tr>\n",
       "    <tr>\n",
       "      <th>4</th>\n",
       "      <td>Female</td>\n",
       "      <td>No</td>\n",
       "      <td>2</td>\n",
       "      <td>Yes</td>\n",
       "      <td>Yes</td>\n",
       "      <td>70.70</td>\n",
       "      <td>Yes</td>\n",
       "    </tr>\n",
       "  </tbody>\n",
       "</table>\n",
       "</div>"
      ],
      "text/plain": [
       "   gender Partner  tenure PhoneService PaperlessBilling  MonthlyCharges Churn\n",
       "0  Female     Yes       1           No              Yes           29.85    No\n",
       "1    Male      No      34          Yes               No           56.95    No\n",
       "2    Male      No       2          Yes              Yes           53.85   Yes\n",
       "3    Male      No      45           No               No           42.30    No\n",
       "4  Female      No       2          Yes              Yes           70.70   Yes"
      ]
     },
     "execution_count": 2,
     "metadata": {},
     "output_type": "execute_result"
    }
   ],
   "source": [
    "df = pd.read_csv(\"D:/Data Scientist/Dataset/Dataset - DS - 13-14/TelcoChurn.csv\")\n",
    "df.head()"
   ]
  },
  {
   "cell_type": "markdown",
   "metadata": {
    "id": "HtvaY6zGRWyE"
   },
   "source": [
    "## 2. Exploratory Data Analysis (EDA)"
   ]
  },
  {
   "cell_type": "markdown",
   "metadata": {
    "id": "qhUInEkcbtNQ"
   },
   "source": [
    "Lakukan eksplorasi data churn!"
   ]
  },
  {
   "cell_type": "code",
   "execution_count": 3,
   "metadata": {
    "id": "4Myygk6Bs3-P"
   },
   "outputs": [
    {
     "name": "stdout",
     "output_type": "stream",
     "text": [
      "<class 'pandas.core.frame.DataFrame'>\n",
      "RangeIndex: 7043 entries, 0 to 7042\n",
      "Data columns (total 7 columns):\n",
      " #   Column            Non-Null Count  Dtype  \n",
      "---  ------            --------------  -----  \n",
      " 0   gender            7043 non-null   object \n",
      " 1   Partner           7043 non-null   object \n",
      " 2   tenure            7043 non-null   int64  \n",
      " 3   PhoneService      7043 non-null   object \n",
      " 4   PaperlessBilling  7043 non-null   object \n",
      " 5   MonthlyCharges    7043 non-null   float64\n",
      " 6   Churn             7043 non-null   object \n",
      "dtypes: float64(1), int64(1), object(5)\n",
      "memory usage: 385.3+ KB\n"
     ]
    }
   ],
   "source": [
    "df.info()"
   ]
  },
  {
   "cell_type": "code",
   "execution_count": 4,
   "metadata": {
    "id": "Y7LmQ_bRs7ze"
   },
   "outputs": [
    {
     "data": {
      "image/png": "[encoded data removed]",
      "text/plain": [
       "<Figure size 432x288 with 1 Axes>"
      ]
     },
     "metadata": {},
     "output_type": "display_data"
    }
   ],
   "source": [
    "# Mencari perbandingan label/class\n",
    "df['Churn'].value_counts().plot.pie(autopct='%1.1f%%',shadow=True)\n",
    "plt.show()"
   ]
  },
  {
   "cell_type": "markdown",
   "metadata": {},
   "source": [
    "Dapat dilihat bahwa pelanggan yang TIDAK berhenti berlangganan ada 73.5%"
   ]
  },
  {
   "cell_type": "code",
   "execution_count": 5,
   "metadata": {
    "id": "ykGGQi2mYVHT"
   },
   "outputs": [
    {
     "data": {
      "text/html": [
       "<div>\n",
       "<style scoped>\n",
       "    .dataframe tbody tr th:only-of-type {\n",
       "        vertical-align: middle;\n",
       "    }\n",
       "\n",
       "    .dataframe tbody tr th {\n",
       "        vertical-align: top;\n",
       "    }\n",
       "\n",
       "    .dataframe thead th {\n",
       "        text-align: right;\n",
       "    }\n",
       "</style>\n",
       "<table border=\"1\" class=\"dataframe\">\n",
       "  <thead>\n",
       "    <tr style=\"text-align: right;\">\n",
       "      <th></th>\n",
       "      <th>tenure</th>\n",
       "      <th>MonthlyCharges</th>\n",
       "    </tr>\n",
       "  </thead>\n",
       "  <tbody>\n",
       "    <tr>\n",
       "      <th>count</th>\n",
       "      <td>7043.000000</td>\n",
       "      <td>7043.000000</td>\n",
       "    </tr>\n",
       "    <tr>\n",
       "      <th>mean</th>\n",
       "      <td>32.371149</td>\n",
       "      <td>64.761692</td>\n",
       "    </tr>\n",
       "    <tr>\n",
       "      <th>std</th>\n",
       "      <td>24.559481</td>\n",
       "      <td>30.090047</td>\n",
       "    </tr>\n",
       "    <tr>\n",
       "      <th>min</th>\n",
       "      <td>0.000000</td>\n",
       "      <td>18.250000</td>\n",
       "    </tr>\n",
       "    <tr>\n",
       "      <th>25%</th>\n",
       "      <td>9.000000</td>\n",
       "      <td>35.500000</td>\n",
       "    </tr>\n",
       "    <tr>\n",
       "      <th>50%</th>\n",
       "      <td>29.000000</td>\n",
       "      <td>70.350000</td>\n",
       "    </tr>\n",
       "    <tr>\n",
       "      <th>75%</th>\n",
       "      <td>55.000000</td>\n",
       "      <td>89.850000</td>\n",
       "    </tr>\n",
       "    <tr>\n",
       "      <th>max</th>\n",
       "      <td>72.000000</td>\n",
       "      <td>118.750000</td>\n",
       "    </tr>\n",
       "  </tbody>\n",
       "</table>\n",
       "</div>"
      ],
      "text/plain": [
       "            tenure  MonthlyCharges\n",
       "count  7043.000000     7043.000000\n",
       "mean     32.371149       64.761692\n",
       "std      24.559481       30.090047\n",
       "min       0.000000       18.250000\n",
       "25%       9.000000       35.500000\n",
       "50%      29.000000       70.350000\n",
       "75%      55.000000       89.850000\n",
       "max      72.000000      118.750000"
      ]
     },
     "execution_count": 5,
     "metadata": {},
     "output_type": "execute_result"
    }
   ],
   "source": [
    "df.describe()"
   ]
  },
  {
   "cell_type": "markdown",
   "metadata": {},
   "source": [
    "Dapat dilihat dari tenure bahwa minimal lama berlangganan adalah 0. Akan kita cari tahu apakah pelanggan yang menggunakan telfon(PhoneService) berpengaruh terhadap tenure?"
   ]
  },
  {
   "cell_type": "code",
   "execution_count": 6,
   "metadata": {},
   "outputs": [
    {
     "data": {
      "image/png": "[encoded data removed]",
      "text/plain": [
       "<Figure size 432x288 with 1 Axes>"
      ]
     },
     "metadata": {
      "needs_background": "light"
     },
     "output_type": "display_data"
    }
   ],
   "source": [
    "# Buat Crosstab antara phoneservice dan tenure\n",
    "phoneservice_tenure = pd.crosstab(df['PhoneService'], (df['tenure']==0))\n",
    "\n",
    "# Buat hasil crosstab menjadi dataframe\n",
    "stacked = phoneservice_tenure.stack().reset_index().rename(columns={0:'value'})\n",
    "sns.barplot(x=stacked.PhoneService, y=stacked.value, hue=stacked.tenure)\n",
    "plt.show()"
   ]
  },
  {
   "cell_type": "markdown",
   "metadata": {},
   "source": [
    "Dari hasil visualisasi diatas diketahui bahwa pelanggan yang menggunakan telfon memiliki tenure karena mereka mungkin lebih terikat dengan layanan yang diberikan. Dibandingkan dengan pelanggan yang tidak memiliki telfon."
   ]
  },
  {
   "cell_type": "markdown",
   "metadata": {},
   "source": [
    "Kita cek status pernikahan, apakah mempengaruhi churn?"
   ]
  },
  {
   "cell_type": "code",
   "execution_count": 7,
   "metadata": {},
   "outputs": [
    {
     "data": {
      "text/plain": [
       "<AxesSubplot:xlabel='Partner', ylabel='value'>"
      ]
     },
     "execution_count": 7,
     "metadata": {},
     "output_type": "execute_result"
    },
    {
     "data": {
      "image/png": "[encoded data removed]",
      "text/plain": [
       "<Figure size 432x288 with 1 Axes>"
      ]
     },
     "metadata": {
      "needs_background": "light"
     },
     "output_type": "display_data"
    }
   ],
   "source": [
    "# Cek status pernikahan dan churn\n",
    "duit = pd.crosstab(df['Partner'], (df['Churn']))\n",
    "\n",
    "# Buat hasil crosstab menjadi dataframe\n",
    "employ_stacked = duit.stack().reset_index().rename(columns={0:'value'})\n",
    "sns.barplot(x=employ_stacked.Partner, y=employ_stacked.value, hue=employ_stacked.Churn)"
   ]
  },
  {
   "cell_type": "markdown",
   "metadata": {},
   "source": [
    "Dari hasil visualisasi dapat diketahui bahwa pelanggan yang sudah menikah ataupun belum menikah merupakan pelanggan yang tidak berhenti berlangganan."
   ]
  },
  {
   "cell_type": "markdown",
   "metadata": {
    "id": "3uiRRIhMYypx"
   },
   "source": [
    "## 3 Preprocessing"
   ]
  },
  {
   "cell_type": "markdown",
   "metadata": {
    "id": "3GLVkK3-Y6-Z"
   },
   "source": [
    "Lakukan preprocessing data churn!"
   ]
  },
  {
   "cell_type": "code",
   "execution_count": 8,
   "metadata": {},
   "outputs": [
    {
     "data": {
      "text/plain": [
       "gender              0\n",
       "Partner             0\n",
       "tenure              0\n",
       "PhoneService        0\n",
       "PaperlessBilling    0\n",
       "MonthlyCharges      0\n",
       "Churn               0\n",
       "dtype: int64"
      ]
     },
     "execution_count": 8,
     "metadata": {},
     "output_type": "execute_result"
    }
   ],
   "source": [
    "# cek missing value\n",
    "df.isnull().sum()"
   ]
  },
  {
   "cell_type": "markdown",
   "metadata": {},
   "source": [
    "Label Encoder"
   ]
  },
  {
   "cell_type": "code",
   "execution_count": 9,
   "metadata": {},
   "outputs": [
    {
     "data": {
      "text/html": [
       "<div>\n",
       "<style scoped>\n",
       "    .dataframe tbody tr th:only-of-type {\n",
       "        vertical-align: middle;\n",
       "    }\n",
       "\n",
       "    .dataframe tbody tr th {\n",
       "        vertical-align: top;\n",
       "    }\n",
       "\n",
       "    .dataframe thead th {\n",
       "        text-align: right;\n",
       "    }\n",
       "</style>\n",
       "<table border=\"1\" class=\"dataframe\">\n",
       "  <thead>\n",
       "    <tr style=\"text-align: right;\">\n",
       "      <th></th>\n",
       "      <th>gender</th>\n",
       "      <th>Partner</th>\n",
       "      <th>PhoneService</th>\n",
       "      <th>PaperlessBilling</th>\n",
       "      <th>Churn</th>\n",
       "    </tr>\n",
       "  </thead>\n",
       "  <tbody>\n",
       "    <tr>\n",
       "      <th>0</th>\n",
       "      <td>Female</td>\n",
       "      <td>Yes</td>\n",
       "      <td>No</td>\n",
       "      <td>Yes</td>\n",
       "      <td>No</td>\n",
       "    </tr>\n",
       "    <tr>\n",
       "      <th>1</th>\n",
       "      <td>Male</td>\n",
       "      <td>No</td>\n",
       "      <td>Yes</td>\n",
       "      <td>No</td>\n",
       "      <td>No</td>\n",
       "    </tr>\n",
       "    <tr>\n",
       "      <th>2</th>\n",
       "      <td>Male</td>\n",
       "      <td>No</td>\n",
       "      <td>Yes</td>\n",
       "      <td>Yes</td>\n",
       "      <td>Yes</td>\n",
       "    </tr>\n",
       "    <tr>\n",
       "      <th>3</th>\n",
       "      <td>Male</td>\n",
       "      <td>No</td>\n",
       "      <td>No</td>\n",
       "      <td>No</td>\n",
       "      <td>No</td>\n",
       "    </tr>\n",
       "    <tr>\n",
       "      <th>4</th>\n",
       "      <td>Female</td>\n",
       "      <td>No</td>\n",
       "      <td>Yes</td>\n",
       "      <td>Yes</td>\n",
       "      <td>Yes</td>\n",
       "    </tr>\n",
       "  </tbody>\n",
       "</table>\n",
       "</div>"
      ],
      "text/plain": [
       "   gender Partner PhoneService PaperlessBilling Churn\n",
       "0  Female     Yes           No              Yes    No\n",
       "1    Male      No          Yes               No    No\n",
       "2    Male      No          Yes              Yes   Yes\n",
       "3    Male      No           No               No    No\n",
       "4  Female      No          Yes              Yes   Yes"
      ]
     },
     "execution_count": 9,
     "metadata": {},
     "output_type": "execute_result"
    }
   ],
   "source": [
    "kategori = [\"gender\", \"Partner\", \"PhoneService\", \"PaperlessBilling\", \"Churn\"]\n",
    "df_cat = df[kategori]\n",
    "df_cat.head()"
   ]
  },
  {
   "cell_type": "code",
   "execution_count": 10,
   "metadata": {},
   "outputs": [
    {
     "data": {
      "text/html": [
       "<div>\n",
       "<style scoped>\n",
       "    .dataframe tbody tr th:only-of-type {\n",
       "        vertical-align: middle;\n",
       "    }\n",
       "\n",
       "    .dataframe tbody tr th {\n",
       "        vertical-align: top;\n",
       "    }\n",
       "\n",
       "    .dataframe thead th {\n",
       "        text-align: right;\n",
       "    }\n",
       "</style>\n",
       "<table border=\"1\" class=\"dataframe\">\n",
       "  <thead>\n",
       "    <tr style=\"text-align: right;\">\n",
       "      <th></th>\n",
       "      <th>gender</th>\n",
       "      <th>Partner</th>\n",
       "      <th>tenure</th>\n",
       "      <th>PhoneService</th>\n",
       "      <th>PaperlessBilling</th>\n",
       "      <th>MonthlyCharges</th>\n",
       "      <th>Churn</th>\n",
       "    </tr>\n",
       "  </thead>\n",
       "  <tbody>\n",
       "    <tr>\n",
       "      <th>0</th>\n",
       "      <td>0</td>\n",
       "      <td>1</td>\n",
       "      <td>1</td>\n",
       "      <td>0</td>\n",
       "      <td>1</td>\n",
       "      <td>29.85</td>\n",
       "      <td>0</td>\n",
       "    </tr>\n",
       "    <tr>\n",
       "      <th>1</th>\n",
       "      <td>1</td>\n",
       "      <td>0</td>\n",
       "      <td>34</td>\n",
       "      <td>1</td>\n",
       "      <td>0</td>\n",
       "      <td>56.95</td>\n",
       "      <td>0</td>\n",
       "    </tr>\n",
       "    <tr>\n",
       "      <th>2</th>\n",
       "      <td>1</td>\n",
       "      <td>0</td>\n",
       "      <td>2</td>\n",
       "      <td>1</td>\n",
       "      <td>1</td>\n",
       "      <td>53.85</td>\n",
       "      <td>1</td>\n",
       "    </tr>\n",
       "    <tr>\n",
       "      <th>3</th>\n",
       "      <td>1</td>\n",
       "      <td>0</td>\n",
       "      <td>45</td>\n",
       "      <td>0</td>\n",
       "      <td>0</td>\n",
       "      <td>42.30</td>\n",
       "      <td>0</td>\n",
       "    </tr>\n",
       "    <tr>\n",
       "      <th>4</th>\n",
       "      <td>0</td>\n",
       "      <td>0</td>\n",
       "      <td>2</td>\n",
       "      <td>1</td>\n",
       "      <td>1</td>\n",
       "      <td>70.70</td>\n",
       "      <td>1</td>\n",
       "    </tr>\n",
       "  </tbody>\n",
       "</table>\n",
       "</div>"
      ],
      "text/plain": [
       "   gender  Partner  tenure  PhoneService  PaperlessBilling  MonthlyCharges  \\\n",
       "0       0        1       1             0                 1           29.85   \n",
       "1       1        0      34             1                 0           56.95   \n",
       "2       1        0       2             1                 1           53.85   \n",
       "3       1        0      45             0                 0           42.30   \n",
       "4       0        0       2             1                 1           70.70   \n",
       "\n",
       "   Churn  \n",
       "0      0  \n",
       "1      0  \n",
       "2      1  \n",
       "3      0  \n",
       "4      1  "
      ]
     },
     "execution_count": 10,
     "metadata": {},
     "output_type": "execute_result"
    }
   ],
   "source": [
    "encoded_data = LabelEncoder()\n",
    "\n",
    "for feature in kategori :\n",
    "    if feature in df.columns.values :\n",
    "        df[feature] = encoded_data.fit_transform(df[feature])\n",
    "        \n",
    "\n",
    "df.head()"
   ]
  },
  {
   "cell_type": "code",
   "execution_count": 11,
   "metadata": {},
   "outputs": [
    {
     "data": {
      "image/png": "[encoded data removed]",
      "text/plain": [
       "<Figure size 1080x576 with 2 Axes>"
      ]
     },
     "metadata": {
      "needs_background": "light"
     },
     "output_type": "display_data"
    }
   ],
   "source": [
    "# Cek korelasi, mengasumsikan bahwa data bertime interval-rasio\n",
    "sns.heatmap(df.corr(),linewidths=.5,annot=True,cmap='Blues')\n",
    "fig=plt.gcf()\n",
    "fig.set_size_inches(15,8)\n",
    "plt.show()"
   ]
  },
  {
   "cell_type": "code",
   "execution_count": 12,
   "metadata": {},
   "outputs": [
    {
     "data": {
      "text/plain": [
       "tenure             -0.352229\n",
       "Partner            -0.150448\n",
       "gender             -0.008612\n",
       "PhoneService        0.011942\n",
       "PaperlessBilling    0.191825\n",
       "MonthlyCharges      0.193356\n",
       "Churn               1.000000\n",
       "Name: Churn, dtype: float64"
      ]
     },
     "execution_count": 12,
     "metadata": {},
     "output_type": "execute_result"
    }
   ],
   "source": [
    "# Cek Urutan korelasi terendah ke tertinggi\n",
    "korelasi = df.corr()[\"Churn\"].sort_values()\n",
    "korelasi"
   ]
  },
  {
   "cell_type": "markdown",
   "metadata": {
    "id": "qbMypfxnZc9N"
   },
   "source": [
    "## 5. Membangun Model Klasifikasi"
   ]
  },
  {
   "cell_type": "markdown",
   "metadata": {
    "id": "ry2zNqvBZh0J"
   },
   "source": [
    "MEMBAGI TRAIN TEST DATA"
   ]
  },
  {
   "cell_type": "markdown",
   "metadata": {
    "id": "aei2CQXmcyiK"
   },
   "source": [
    "Menggunakan data testing berjumlah 30% dari total data, dan data training berjumlah 70% dari total data."
   ]
  },
  {
   "cell_type": "code",
   "execution_count": 13,
   "metadata": {
    "id": "xMFn9-r8tDmO"
   },
   "outputs": [
    {
     "name": "stdout",
     "output_type": "stream",
     "text": [
      "X Train :  4930\n",
      "y Train :  4930\n",
      "X Test :  2113\n",
      "y Test :  2113\n"
     ]
    }
   ],
   "source": [
    "from sklearn.preprocessing import MinMaxScaler\n",
    "\n",
    "scaler = MinMaxScaler()\n",
    "\n",
    "X = df.drop(\"Churn\", axis=1)\n",
    "#X = scaler.fit_transform(X)\n",
    "y = df[\"Churn\"]\n",
    "\n",
    "X_train, X_test, y_train, y_test = train_test_split(X, y, test_size=0.3, random_state=42)\n",
    "\n",
    "print(\"X Train : \", len(X_train))\n",
    "print(\"y Train : \", len(y_train))\n",
    "print(\"X Test : \", len(X_test))\n",
    "print(\"y Test : \", len(y_test))"
   ]
  },
  {
   "cell_type": "markdown",
   "metadata": {
    "id": "BxmIcrPpZr78"
   },
   "source": [
    "### Stats Model (Logistic Regression)"
   ]
  },
  {
   "cell_type": "code",
   "execution_count": 14,
   "metadata": {
    "id": "vgAFMQC1tHSb"
   },
   "outputs": [
    {
     "name": "stderr",
     "output_type": "stream",
     "text": [
      "C:\\ProgramData\\Anaconda3\\lib\\site-packages\\statsmodels\\tsa\\tsatools.py:142: FutureWarning: In a future version of pandas all arguments of concat except for the argument 'objs' will be keyword-only\n",
      "  x = pd.concat(x[::order], 1)\n"
     ]
    }
   ],
   "source": [
    "Input = sm.add_constant(X_train)"
   ]
  },
  {
   "cell_type": "markdown",
   "metadata": {
    "id": "bVacEvhxbsR5"
   },
   "source": [
    "Bagaimana akurasi model logistic regression dengan stats model?"
   ]
  },
  {
   "cell_type": "code",
   "execution_count": 15,
   "metadata": {
    "id": "Sv9e3zrptIwl"
   },
   "outputs": [
    {
     "name": "stdout",
     "output_type": "stream",
     "text": [
      "Optimization terminated successfully.\n",
      "         Current function value: 0.457227\n",
      "         Iterations 7\n",
      "                          Results: Logit\n",
      "==================================================================\n",
      "Model:              Logit            Pseudo R-squared: 0.206      \n",
      "Dependent Variable: Churn            AIC:              4520.2572  \n",
      "Date:               2024-04-11 22:42 BIC:              4559.2757  \n",
      "No. Observations:   4930             Log-Likelihood:   -2254.1    \n",
      "Df Model:           5                LL-Null:          -2838.9    \n",
      "Df Residuals:       4924             LLR p-value:      1.1780e-250\n",
      "Converged:          1.0000           Scale:            1.0000     \n",
      "No. Iterations:     7.0000                                        \n",
      "------------------------------------------------------------------\n",
      "                   Coef.  Std.Err.    z     P>|z|   [0.025  0.975]\n",
      "------------------------------------------------------------------\n",
      "gender            -0.2272   0.0704  -3.2269 0.0013 -0.3652 -0.0892\n",
      "Partner           -0.1888   0.0785  -2.4052 0.0162 -0.3427 -0.0350\n",
      "tenure            -0.0553   0.0021 -26.4671 0.0000 -0.0594 -0.0512\n",
      "PhoneService      -1.5870   0.1047 -15.1580 0.0000 -1.7922 -1.3818\n",
      "PaperlessBilling   0.3613   0.0800   4.5154 0.0000  0.2045  0.5181\n",
      "MonthlyCharges     0.0283   0.0017  17.0764 0.0000  0.0251  0.0316\n",
      "==================================================================\n",
      "\n"
     ]
    }
   ],
   "source": [
    "model = sm.Logit(y_train, X_train, missing='drop')\n",
    "result = model.fit()\n",
    "print(result.summary2())"
   ]
  },
  {
   "cell_type": "code",
   "execution_count": 16,
   "metadata": {
    "id": "wzEwhG5ktLSE"
   },
   "outputs": [
    {
     "data": {
      "text/plain": [
       "gender              0.797\n",
       "Partner             0.828\n",
       "tenure              0.946\n",
       "PhoneService        0.205\n",
       "PaperlessBilling    1.435\n",
       "MonthlyCharges      1.029\n",
       "dtype: float64"
      ]
     },
     "execution_count": 16,
     "metadata": {},
     "output_type": "execute_result"
    }
   ],
   "source": [
    "#odds ratio\n",
    "round(np.exp(result.params), 3)"
   ]
  },
  {
   "cell_type": "markdown",
   "metadata": {},
   "source": [
    "Prediksi Model"
   ]
  },
  {
   "cell_type": "code",
   "execution_count": 17,
   "metadata": {},
   "outputs": [],
   "source": [
    "prediction = result.predict(X_test)"
   ]
  },
  {
   "cell_type": "code",
   "execution_count": 18,
   "metadata": {},
   "outputs": [
    {
     "data": {
      "text/html": [
       "<div>\n",
       "<style scoped>\n",
       "    .dataframe tbody tr th:only-of-type {\n",
       "        vertical-align: middle;\n",
       "    }\n",
       "\n",
       "    .dataframe tbody tr th {\n",
       "        vertical-align: top;\n",
       "    }\n",
       "\n",
       "    .dataframe thead th {\n",
       "        text-align: right;\n",
       "    }\n",
       "</style>\n",
       "<table border=\"1\" class=\"dataframe\">\n",
       "  <thead>\n",
       "    <tr style=\"text-align: right;\">\n",
       "      <th></th>\n",
       "      <th>logreg_pred</th>\n",
       "      <th>prediksi</th>\n",
       "      <th>actual</th>\n",
       "    </tr>\n",
       "  </thead>\n",
       "  <tbody>\n",
       "    <tr>\n",
       "      <th>185</th>\n",
       "      <td>0.694126</td>\n",
       "      <td>1</td>\n",
       "      <td>1</td>\n",
       "    </tr>\n",
       "    <tr>\n",
       "      <th>2715</th>\n",
       "      <td>0.047231</td>\n",
       "      <td>0</td>\n",
       "      <td>0</td>\n",
       "    </tr>\n",
       "    <tr>\n",
       "      <th>3825</th>\n",
       "      <td>0.016265</td>\n",
       "      <td>0</td>\n",
       "      <td>0</td>\n",
       "    </tr>\n",
       "    <tr>\n",
       "      <th>1807</th>\n",
       "      <td>0.627099</td>\n",
       "      <td>1</td>\n",
       "      <td>1</td>\n",
       "    </tr>\n",
       "    <tr>\n",
       "      <th>132</th>\n",
       "      <td>0.016522</td>\n",
       "      <td>0</td>\n",
       "      <td>0</td>\n",
       "    </tr>\n",
       "  </tbody>\n",
       "</table>\n",
       "</div>"
      ],
      "text/plain": [
       "      logreg_pred  prediksi  actual\n",
       "185      0.694126         1       1\n",
       "2715     0.047231         0       0\n",
       "3825     0.016265         0       0\n",
       "1807     0.627099         1       1\n",
       "132      0.016522         0       0"
      ]
     },
     "execution_count": 18,
     "metadata": {},
     "output_type": "execute_result"
    }
   ],
   "source": [
    "pred_results = pd.DataFrame(prediction, columns = [\"logreg_pred\"])\n",
    "pred_results[\"prediksi\"] = pred_results['logreg_pred'].apply(lambda x: 1 if x > 0.5 else 0)\n",
    "pred_results['actual'] = y_test\n",
    "pred_results.head()"
   ]
  },
  {
   "cell_type": "markdown",
   "metadata": {},
   "source": [
    "Evaluation Model"
   ]
  },
  {
   "cell_type": "code",
   "execution_count": 19,
   "metadata": {},
   "outputs": [
    {
     "name": "stdout",
     "output_type": "stream",
     "text": [
      "Test accuracy =  0.787\n",
      "Test precision =  0.626\n",
      "Test recall =  0.531\n",
      "Test f-score =  0.575\n"
     ]
    }
   ],
   "source": [
    "print('Test accuracy =  {:.3f}'.format(accuracy_score(pred_results['actual'], pred_results[\"prediksi\"])))\n",
    "print('Test precision =  {:.3f}'.format(precision_score(pred_results['actual'], pred_results[\"prediksi\"], average='binary')))\n",
    "print('Test recall =  {:.3f}'.format(recall_score(pred_results['actual'], pred_results[\"prediksi\"], average='binary')))\n",
    "print('Test f-score =  {:.3f}'.format(f1_score(pred_results['actual'], pred_results[\"prediksi\"], average='binary')))"
   ]
  },
  {
   "cell_type": "markdown",
   "metadata": {
    "id": "GSCqhlxmb778"
   },
   "source": [
    "### SKLEARN (Logistic Regression)"
   ]
  },
  {
   "cell_type": "code",
   "execution_count": 20,
   "metadata": {
    "id": "2K0czKtGtNxw"
   },
   "outputs": [
    {
     "data": {
      "text/html": [
       "<style>#sk-container-id-1 {color: black;background-color: white;}#sk-container-id-1 pre{padding: 0;}#sk-container-id-1 div.sk-toggleable {background-color: white;}#sk-container-id-1 label.sk-toggleable__label {cursor: pointer;display: block;width: 100%;margin-bottom: 0;padding: 0.3em;box-sizing: border-box;text-align: center;}#sk-container-id-1 label.sk-toggleable__label-arrow:before {content: \"▸\";float: left;margin-right: 0.25em;color: #696969;}#sk-container-id-1 label.sk-toggleable__label-arrow:hover:before {color: black;}#sk-container-id-1 div.sk-estimator:hover label.sk-toggleable__label-arrow:before {color: black;}#sk-container-id-1 div.sk-toggleable__content {max-height: 0;max-width: 0;overflow: hidden;text-align: left;background-color: #f0f8ff;}#sk-container-id-1 div.sk-toggleable__content pre {margin: 0.2em;color: black;border-radius: 0.25em;background-color: #f0f8ff;}#sk-container-id-1 input.sk-toggleable__control:checked~div.sk-toggleable__content {max-height: 200px;max-width: 100%;overflow: auto;}#sk-container-id-1 input.sk-toggleable__control:checked~label.sk-toggleable__label-arrow:before {content: \"▾\";}#sk-container-id-1 div.sk-estimator input.sk-toggleable__control:checked~label.sk-toggleable__label {background-color: #d4ebff;}#sk-container-id-1 div.sk-label input.sk-toggleable__control:checked~label.sk-toggleable__label {background-color: #d4ebff;}#sk-container-id-1 input.sk-hidden--visually {border: 0;clip: rect(1px 1px 1px 1px);clip: rect(1px, 1px, 1px, 1px);height: 1px;margin: -1px;overflow: hidden;padding: 0;position: absolute;width: 1px;}#sk-container-id-1 div.sk-estimator {font-family: monospace;background-color: #f0f8ff;border: 1px dotted black;border-radius: 0.25em;box-sizing: border-box;margin-bottom: 0.5em;}#sk-container-id-1 div.sk-estimator:hover {background-color: #d4ebff;}#sk-container-id-1 div.sk-parallel-item::after {content: \"\";width: 100%;border-bottom: 1px solid gray;flex-grow: 1;}#sk-container-id-1 div.sk-label:hover label.sk-toggleable__label {background-color: #d4ebff;}#sk-container-id-1 div.sk-serial::before {content: \"\";position: absolute;border-left: 1px solid gray;box-sizing: border-box;top: 0;bottom: 0;left: 50%;z-index: 0;}#sk-container-id-1 div.sk-serial {display: flex;flex-direction: column;align-items: center;background-color: white;padding-right: 0.2em;padding-left: 0.2em;position: relative;}#sk-container-id-1 div.sk-item {position: relative;z-index: 1;}#sk-container-id-1 div.sk-parallel {display: flex;align-items: stretch;justify-content: center;background-color: white;position: relative;}#sk-container-id-1 div.sk-item::before, #sk-container-id-1 div.sk-parallel-item::before {content: \"\";position: absolute;border-left: 1px solid gray;box-sizing: border-box;top: 0;bottom: 0;left: 50%;z-index: -1;}#sk-container-id-1 div.sk-parallel-item {display: flex;flex-direction: column;z-index: 1;position: relative;background-color: white;}#sk-container-id-1 div.sk-parallel-item:first-child::after {align-self: flex-end;width: 50%;}#sk-container-id-1 div.sk-parallel-item:last-child::after {align-self: flex-start;width: 50%;}#sk-container-id-1 div.sk-parallel-item:only-child::after {width: 0;}#sk-container-id-1 div.sk-dashed-wrapped {border: 1px dashed gray;margin: 0 0.4em 0.5em 0.4em;box-sizing: border-box;padding-bottom: 0.4em;background-color: white;}#sk-container-id-1 div.sk-label label {font-family: monospace;font-weight: bold;display: inline-block;line-height: 1.2em;}#sk-container-id-1 div.sk-label-container {text-align: center;}#sk-container-id-1 div.sk-container {/* jupyter's `normalize.less` sets `[hidden] { display: none; }` but bootstrap.min.css set `[hidden] { display: none !important; }` so we also need the `!important` here to be able to override the default hidden behavior on the sphinx rendered scikit-learn.org. See: https://github.com/scikit-learn/scikit-learn/issues/21755 */display: inline-block !important;position: relative;}#sk-container-id-1 div.sk-text-repr-fallback {display: none;}</style><div id=\"sk-container-id-1\" class=\"sk-top-container\"><div class=\"sk-text-repr-fallback\"><pre>LogisticRegression()</pre><b>In a Jupyter environment, please rerun this cell to show the HTML representation or trust the notebook. <br />On GitHub, the HTML representation is unable to render, please try loading this page with nbviewer.org.</b></div><div class=\"sk-container\" hidden><div class=\"sk-item\"><div class=\"sk-estimator sk-toggleable\"><input class=\"sk-toggleable__control sk-hidden--visually\" id=\"sk-estimator-id-1\" type=\"checkbox\" checked><label for=\"sk-estimator-id-1\" class=\"sk-toggleable__label sk-toggleable__label-arrow\">LogisticRegression</label><div class=\"sk-toggleable__content\"><pre>LogisticRegression()</pre></div></div></div></div></div>"
      ],
      "text/plain": [
       "LogisticRegression()"
      ]
     },
     "execution_count": 20,
     "metadata": {},
     "output_type": "execute_result"
    }
   ],
   "source": [
    "LR = LogisticRegression()\n",
    "LR.fit(X_train, y_train)"
   ]
  },
  {
   "cell_type": "markdown",
   "metadata": {
    "id": "HSxnlHHscC8z"
   },
   "source": [
    "Bagaimana akurasi model regresi logistik dengan SKLEARN?"
   ]
  },
  {
   "cell_type": "code",
   "execution_count": 21,
   "metadata": {
    "id": "B03fq1HTcDF-"
   },
   "outputs": [
    {
     "data": {
      "text/html": [
       "<div>\n",
       "<style scoped>\n",
       "    .dataframe tbody tr th:only-of-type {\n",
       "        vertical-align: middle;\n",
       "    }\n",
       "\n",
       "    .dataframe tbody tr th {\n",
       "        vertical-align: top;\n",
       "    }\n",
       "\n",
       "    .dataframe thead th {\n",
       "        text-align: right;\n",
       "    }\n",
       "</style>\n",
       "<table border=\"1\" class=\"dataframe\">\n",
       "  <thead>\n",
       "    <tr style=\"text-align: right;\">\n",
       "      <th></th>\n",
       "      <th>gender</th>\n",
       "      <th>Partner</th>\n",
       "      <th>tenure</th>\n",
       "      <th>PhoneService</th>\n",
       "      <th>PaperlessBilling</th>\n",
       "      <th>MonthlyCharges</th>\n",
       "      <th>Churn</th>\n",
       "      <th>prediction</th>\n",
       "    </tr>\n",
       "  </thead>\n",
       "  <tbody>\n",
       "    <tr>\n",
       "      <th>185</th>\n",
       "      <td>0</td>\n",
       "      <td>1</td>\n",
       "      <td>1</td>\n",
       "      <td>0</td>\n",
       "      <td>1</td>\n",
       "      <td>24.80</td>\n",
       "      <td>1</td>\n",
       "      <td>0</td>\n",
       "    </tr>\n",
       "    <tr>\n",
       "      <th>2715</th>\n",
       "      <td>1</td>\n",
       "      <td>0</td>\n",
       "      <td>41</td>\n",
       "      <td>1</td>\n",
       "      <td>1</td>\n",
       "      <td>25.25</td>\n",
       "      <td>0</td>\n",
       "      <td>0</td>\n",
       "    </tr>\n",
       "    <tr>\n",
       "      <th>3825</th>\n",
       "      <td>0</td>\n",
       "      <td>1</td>\n",
       "      <td>52</td>\n",
       "      <td>1</td>\n",
       "      <td>0</td>\n",
       "      <td>19.35</td>\n",
       "      <td>0</td>\n",
       "      <td>0</td>\n",
       "    </tr>\n",
       "    <tr>\n",
       "      <th>1807</th>\n",
       "      <td>0</td>\n",
       "      <td>0</td>\n",
       "      <td>1</td>\n",
       "      <td>1</td>\n",
       "      <td>0</td>\n",
       "      <td>76.35</td>\n",
       "      <td>1</td>\n",
       "      <td>1</td>\n",
       "    </tr>\n",
       "    <tr>\n",
       "      <th>132</th>\n",
       "      <td>1</td>\n",
       "      <td>0</td>\n",
       "      <td>67</td>\n",
       "      <td>1</td>\n",
       "      <td>0</td>\n",
       "      <td>50.55</td>\n",
       "      <td>0</td>\n",
       "      <td>0</td>\n",
       "    </tr>\n",
       "  </tbody>\n",
       "</table>\n",
       "</div>"
      ],
      "text/plain": [
       "      gender  Partner  tenure  PhoneService  PaperlessBilling  MonthlyCharges  \\\n",
       "185        0        1       1             0                 1           24.80   \n",
       "2715       1        0      41             1                 1           25.25   \n",
       "3825       0        1      52             1                 0           19.35   \n",
       "1807       0        0       1             1                 0           76.35   \n",
       "132        1        0      67             1                 0           50.55   \n",
       "\n",
       "      Churn  prediction  \n",
       "185       1           0  \n",
       "2715      0           0  \n",
       "3825      0           0  \n",
       "1807      1           1  \n",
       "132       0           0  "
      ]
     },
     "execution_count": 21,
     "metadata": {},
     "output_type": "execute_result"
    }
   ],
   "source": [
    "y_pred = LR.predict(X_test)\n",
    "logreg_test = pd.merge(X_test, y_test, left_index=True, right_index=True, how='outer')\n",
    "logreg_test['prediction'] = y_pred\n",
    "logreg_test.head()"
   ]
  },
  {
   "cell_type": "code",
   "execution_count": 22,
   "metadata": {},
   "outputs": [
    {
     "name": "stdout",
     "output_type": "stream",
     "text": [
      "Accuracy of logistic regression classifier train data: 0.788\n",
      "Accuracy of logistic regression classifier test data: 0.790\n"
     ]
    }
   ],
   "source": [
    "print('Accuracy of logistic regression classifier train data: {:.3f}'.format(LR.score(X_train, y_train)))\n",
    "print('Accuracy of logistic regression classifier test data: {:.3f}'.format(LR.score(X_test, y_test)))"
   ]
  },
  {
   "cell_type": "markdown",
   "metadata": {},
   "source": [
    "Dari kedua model didapat bahwa akurasi model logistic regression dengan sklearn hasilnya hampir sama dengan statsmodels.\n",
    "\n",
    "Pada model logistic regression dengan sklearn, perbedaan akurasi antara train data dan test data sangatlah dekat, hal ini memungkinkan bahwa model yang dihasilkan tidak overfitting."
   ]
  },
  {
   "cell_type": "markdown",
   "metadata": {
    "id": "o6aBqOLPcFS0"
   },
   "source": [
    "### Model Validation Logistic Regression SKLEARN"
   ]
  },
  {
   "cell_type": "markdown",
   "metadata": {
    "id": "pUjpvSTscHxb"
   },
   "source": [
    "Bagaimana hasil model validation dengan KFold, StratifiedKFold, dan GridSearchCV?"
   ]
  },
  {
   "cell_type": "markdown",
   "metadata": {},
   "source": [
    "Menerapkan KFold cross validation"
   ]
  },
  {
   "cell_type": "code",
   "execution_count": 23,
   "metadata": {
    "id": "KtMZoG7RcVRD"
   },
   "outputs": [],
   "source": [
    "#Memilih KFold (k=5)\n",
    "kfold = KFold(n_splits=5, shuffle=True, random_state=42)"
   ]
  },
  {
   "cell_type": "code",
   "execution_count": 24,
   "metadata": {},
   "outputs": [
    {
     "name": "stdout",
     "output_type": "stream",
     "text": [
      "Cross-validation scores: 0.786\n"
     ]
    }
   ],
   "source": [
    "logreg = LogisticRegression(solver='saga', max_iter=1000, penalty=None)\n",
    "scores = cross_val_score(logreg, X_train, y_train, cv=kfold)\n",
    "print(\"Cross-validation scores: {:.3f}\".format(scores.mean()))"
   ]
  },
  {
   "cell_type": "code",
   "execution_count": 25,
   "metadata": {
    "id": "ccYEnLCqatOs"
   },
   "outputs": [
    {
     "data": {
      "text/plain": [
       "array([1.00000000e-03, 2.68269580e-03, 7.19685673e-03, 1.93069773e-02,\n",
       "       5.17947468e-02, 1.38949549e-01, 3.72759372e-01, 1.00000000e+00,\n",
       "       2.68269580e+00, 7.19685673e+00, 1.93069773e+01, 5.17947468e+01,\n",
       "       1.38949549e+02, 3.72759372e+02, 1.00000000e+03])"
      ]
     },
     "execution_count": 25,
     "metadata": {},
     "output_type": "execute_result"
    }
   ],
   "source": [
    "np.logspace(-3, 3, num=15)"
   ]
  },
  {
   "cell_type": "code",
   "execution_count": 26,
   "metadata": {},
   "outputs": [
    {
     "name": "stdout",
     "output_type": "stream",
     "text": [
      "Fitting 5 folds for each of 14 candidates, totalling 70 fits\n",
      "[CV 1/5] END ...............C=0.001, penalty=l1;, score=0.782 total time=   0.4s\n",
      "[CV 2/5] END ...............C=0.001, penalty=l1;, score=0.789 total time=   0.4s\n",
      "[CV 3/5] END ...............C=0.001, penalty=l1;, score=0.798 total time=   0.4s\n",
      "[CV 4/5] END ...............C=0.001, penalty=l1;, score=0.795 total time=   0.4s\n",
      "[CV 5/5] END ...............C=0.001, penalty=l1;, score=0.789 total time=   0.4s\n",
      "[CV 1/5] END ...............C=0.001, penalty=l2;, score=0.788 total time=   0.8s\n",
      "[CV 2/5] END ...............C=0.001, penalty=l2;, score=0.779 total time=   0.7s\n",
      "[CV 3/5] END ...............C=0.001, penalty=l2;, score=0.786 total time=   0.7s\n",
      "[CV 4/5] END ...............C=0.001, penalty=l2;, score=0.790 total time=   0.7s\n",
      "[CV 5/5] END ...............C=0.001, penalty=l2;, score=0.784 total time=   0.7s\n",
      "[CV 1/5] END ................C=0.01, penalty=l1;, score=0.784 total time=   0.5s\n",
      "[CV 2/5] END ................C=0.01, penalty=l1;, score=0.776 total time=   0.5s\n",
      "[CV 3/5] END ................C=0.01, penalty=l1;, score=0.787 total time=   0.5s\n",
      "[CV 4/5] END ................C=0.01, penalty=l1;, score=0.790 total time=   0.4s\n",
      "[CV 5/5] END ................C=0.01, penalty=l1;, score=0.783 total time=   0.5s\n",
      "[CV 1/5] END ................C=0.01, penalty=l2;, score=0.789 total time=   0.9s\n",
      "[CV 2/5] END ................C=0.01, penalty=l2;, score=0.783 total time=   1.0s\n",
      "[CV 3/5] END ................C=0.01, penalty=l2;, score=0.787 total time=   0.9s\n",
      "[CV 4/5] END ................C=0.01, penalty=l2;, score=0.791 total time=   0.9s\n",
      "[CV 5/5] END ................C=0.01, penalty=l2;, score=0.784 total time=   1.0s\n"
     ]
    },
    {
     "name": "stderr",
     "output_type": "stream",
     "text": [
      "C:\\Users\\HP\\AppData\\Roaming\\Python\\Python39\\site-packages\\sklearn\\linear_model\\_sag.py:350: ConvergenceWarning: The max_iter was reached which means the coef_ did not converge\n",
      "  warnings.warn(\n"
     ]
    },
    {
     "name": "stdout",
     "output_type": "stream",
     "text": [
      "[CV 1/5] END .................C=0.1, penalty=l1;, score=0.792 total time=   1.3s\n"
     ]
    },
    {
     "name": "stderr",
     "output_type": "stream",
     "text": [
      "C:\\Users\\HP\\AppData\\Roaming\\Python\\Python39\\site-packages\\sklearn\\linear_model\\_sag.py:350: ConvergenceWarning: The max_iter was reached which means the coef_ did not converge\n",
      "  warnings.warn(\n"
     ]
    },
    {
     "name": "stdout",
     "output_type": "stream",
     "text": [
      "[CV 2/5] END .................C=0.1, penalty=l1;, score=0.771 total time=   1.3s\n"
     ]
    },
    {
     "name": "stderr",
     "output_type": "stream",
     "text": [
      "C:\\Users\\HP\\AppData\\Roaming\\Python\\Python39\\site-packages\\sklearn\\linear_model\\_sag.py:350: ConvergenceWarning: The max_iter was reached which means the coef_ did not converge\n",
      "  warnings.warn(\n"
     ]
    },
    {
     "name": "stdout",
     "output_type": "stream",
     "text": [
      "[CV 3/5] END .................C=0.1, penalty=l1;, score=0.788 total time=   1.3s\n"
     ]
    },
    {
     "name": "stderr",
     "output_type": "stream",
     "text": [
      "C:\\Users\\HP\\AppData\\Roaming\\Python\\Python39\\site-packages\\sklearn\\linear_model\\_sag.py:350: ConvergenceWarning: The max_iter was reached which means the coef_ did not converge\n",
      "  warnings.warn(\n"
     ]
    },
    {
     "name": "stdout",
     "output_type": "stream",
     "text": [
      "[CV 4/5] END .................C=0.1, penalty=l1;, score=0.798 total time=   1.3s\n"
     ]
    },
    {
     "name": "stderr",
     "output_type": "stream",
     "text": [
      "C:\\Users\\HP\\AppData\\Roaming\\Python\\Python39\\site-packages\\sklearn\\linear_model\\_sag.py:350: ConvergenceWarning: The max_iter was reached which means the coef_ did not converge\n",
      "  warnings.warn(\n"
     ]
    },
    {
     "name": "stdout",
     "output_type": "stream",
     "text": [
      "[CV 5/5] END .................C=0.1, penalty=l1;, score=0.780 total time=   1.3s\n",
      "[CV 1/5] END .................C=0.1, penalty=l2;, score=0.792 total time=   1.0s\n",
      "[CV 2/5] END .................C=0.1, penalty=l2;, score=0.773 total time=   1.0s\n",
      "[CV 3/5] END .................C=0.1, penalty=l2;, score=0.791 total time=   1.0s\n",
      "[CV 4/5] END .................C=0.1, penalty=l2;, score=0.796 total time=   0.9s\n",
      "[CV 5/5] END .................C=0.1, penalty=l2;, score=0.782 total time=   1.1s\n",
      "[CV 1/5] END ...................C=1, penalty=l1;, score=0.792 total time=   1.1s\n",
      "[CV 2/5] END ...................C=1, penalty=l1;, score=0.772 total time=   1.0s\n",
      "[CV 3/5] END ...................C=1, penalty=l1;, score=0.790 total time=   1.1s\n",
      "[CV 4/5] END ...................C=1, penalty=l1;, score=0.797 total time=   0.6s\n",
      "[CV 5/5] END ...................C=1, penalty=l1;, score=0.779 total time=   1.1s\n",
      "[CV 1/5] END ...................C=1, penalty=l2;, score=0.792 total time=   0.8s\n",
      "[CV 2/5] END ...................C=1, penalty=l2;, score=0.773 total time=   0.8s\n",
      "[CV 3/5] END ...................C=1, penalty=l2;, score=0.791 total time=   0.8s\n",
      "[CV 4/5] END ...................C=1, penalty=l2;, score=0.797 total time=   0.5s\n",
      "[CV 5/5] END ...................C=1, penalty=l2;, score=0.780 total time=   0.9s\n",
      "[CV 1/5] END ..................C=10, penalty=l1;, score=0.791 total time=   1.0s\n",
      "[CV 2/5] END ..................C=10, penalty=l1;, score=0.772 total time=   0.6s\n",
      "[CV 3/5] END ..................C=10, penalty=l1;, score=0.791 total time=   1.0s\n",
      "[CV 4/5] END ..................C=10, penalty=l1;, score=0.798 total time=   0.5s\n",
      "[CV 5/5] END ..................C=10, penalty=l1;, score=0.780 total time=   1.1s\n",
      "[CV 1/5] END ..................C=10, penalty=l2;, score=0.791 total time=   0.8s\n",
      "[CV 2/5] END ..................C=10, penalty=l2;, score=0.772 total time=   0.5s\n",
      "[CV 3/5] END ..................C=10, penalty=l2;, score=0.791 total time=   0.8s\n",
      "[CV 4/5] END ..................C=10, penalty=l2;, score=0.798 total time=   0.4s\n",
      "[CV 5/5] END ..................C=10, penalty=l2;, score=0.780 total time=   0.8s\n",
      "[CV 1/5] END .................C=100, penalty=l1;, score=0.791 total time=   1.1s\n",
      "[CV 2/5] END .................C=100, penalty=l1;, score=0.772 total time=   0.6s\n",
      "[CV 3/5] END .................C=100, penalty=l1;, score=0.791 total time=   1.0s\n",
      "[CV 4/5] END .................C=100, penalty=l1;, score=0.798 total time=   0.6s\n",
      "[CV 5/5] END .................C=100, penalty=l1;, score=0.780 total time=   1.1s\n",
      "[CV 1/5] END .................C=100, penalty=l2;, score=0.791 total time=   0.8s\n",
      "[CV 2/5] END .................C=100, penalty=l2;, score=0.772 total time=   0.5s\n",
      "[CV 3/5] END .................C=100, penalty=l2;, score=0.791 total time=   0.8s\n",
      "[CV 4/5] END .................C=100, penalty=l2;, score=0.798 total time=   0.5s\n",
      "[CV 5/5] END .................C=100, penalty=l2;, score=0.780 total time=   0.9s\n",
      "[CV 1/5] END ................C=1000, penalty=l1;, score=0.791 total time=   1.1s\n",
      "[CV 2/5] END ................C=1000, penalty=l1;, score=0.772 total time=   0.6s\n",
      "[CV 3/5] END ................C=1000, penalty=l1;, score=0.791 total time=   1.0s\n",
      "[CV 4/5] END ................C=1000, penalty=l1;, score=0.798 total time=   0.6s\n",
      "[CV 5/5] END ................C=1000, penalty=l1;, score=0.780 total time=   1.1s\n",
      "[CV 1/5] END ................C=1000, penalty=l2;, score=0.791 total time=   0.8s\n",
      "[CV 2/5] END ................C=1000, penalty=l2;, score=0.772 total time=   0.5s\n",
      "[CV 3/5] END ................C=1000, penalty=l2;, score=0.791 total time=   0.8s\n",
      "[CV 4/5] END ................C=1000, penalty=l2;, score=0.798 total time=   0.5s\n",
      "[CV 5/5] END ................C=1000, penalty=l2;, score=0.780 total time=   0.9s\n",
      "Best parameters: {'C': 0.001, 'penalty': 'l1'}\n",
      "Best cross-validation score: 0.791\n"
     ]
    }
   ],
   "source": [
    "param_grid_lr = {'C': [0.001, 0.01, 0.1, 1, 10, 100, 1000],\n",
    "                \"penalty\" : ['l1', 'l2']}\n",
    "\n",
    "grid_search_lr = GridSearchCV(logreg, param_grid_lr, cv=kfold, verbose = 3)\n",
    "grid_search_lr.fit(X_train, y_train)\n",
    "print(\"Best parameters: {}\".format(grid_search_lr.best_params_))\n",
    "print(\"Best cross-validation score: {:.3}\".format(grid_search_lr.best_score_))"
   ]
  },
  {
   "cell_type": "code",
   "execution_count": 27,
   "metadata": {},
   "outputs": [
    {
     "name": "stdout",
     "output_type": "stream",
     "text": [
      "Accuracy scores:  [0.7880152550164526]\n",
      "f1 scores:  [0.5168077454882073]\n",
      "Precision scores:  [0.6529275549397525]\n",
      "Recall scores:  [0.4280298919840317]\n"
     ]
    }
   ],
   "source": [
    "scoring = {'acc': 'accuracy',\n",
    "           'F1': 'f1',\n",
    "           'prec': 'precision',\n",
    "           'recall':'recall'}\n",
    " \n",
    "acc = []\n",
    "f1 = []\n",
    "prec = []\n",
    "recall = []\n",
    " \n",
    "logreg = grid_search_lr.best_estimator_\n",
    "scores = cross_validate(logreg, X, y, cv=kfold, scoring=scoring)\n",
    " \n",
    "acc.append(scores['test_acc'].mean())\n",
    "f1.append(scores['test_F1'].mean())\n",
    "prec.append(scores['test_prec'].mean())\n",
    "recall.append(scores['test_recall'].mean())\n",
    " \n",
    "print(\"Accuracy scores: \", acc)\n",
    "print(\"f1 scores: \", f1)\n",
    "print(\"Precision scores: \", prec)\n",
    "print(\"Recall scores: \", recall)"
   ]
  },
  {
   "cell_type": "code",
   "execution_count": 28,
   "metadata": {},
   "outputs": [
    {
     "name": "stdout",
     "output_type": "stream",
     "text": [
      "Accuracy score:  0.7903454803596782\n",
      "Recall score:  0.6845070422535211\n"
     ]
    }
   ],
   "source": [
    "# Terapkan pada data test\n",
    "logreg.fit(X_train, y_train)\n",
    "predictions = logreg.predict(X_test)\n",
    " \n",
    "print(\"Accuracy score: \", accuracy_score(predictions, y_test))\n",
    "print(\"Recall score: \", recall_score(predictions, y_test))"
   ]
  },
  {
   "cell_type": "code",
   "execution_count": 29,
   "metadata": {},
   "outputs": [
    {
     "name": "stdout",
     "output_type": "stream",
     "text": [
      "Accuracy of logistic regression classifier train data: 0.787\n",
      "Accuracy of logistic regression classifier test data: 0.790\n"
     ]
    }
   ],
   "source": [
    "print('Accuracy of logistic regression classifier train data: {:.3f}'.format(logreg.score(X_train, y_train)))\n",
    "print('Accuracy of logistic regression classifier test data: {:.3f}'.format(logreg.score(X_test, y_test)))"
   ]
  },
  {
   "cell_type": "markdown",
   "metadata": {},
   "source": [
    "Untuk hasil evaluasi model didapat hasil yang cukup bagus, dan apabila di lihat hasil scoring pada data train dan test, score menunjukkan angka yang bagus dan tidak ada perbedaan yang signifikan antara keduanya. dapat disimpulkan bahwa model tidak mengalami underfitting dan overfitting."
   ]
  },
  {
   "cell_type": "markdown",
   "metadata": {},
   "source": [
    "Menerapkan Stratified k-fold cross validation"
   ]
  },
  {
   "cell_type": "code",
   "execution_count": 30,
   "metadata": {},
   "outputs": [],
   "source": [
    "skfold = StratifiedKFold(n_splits=5, shuffle=True, random_state=42)"
   ]
  },
  {
   "cell_type": "code",
   "execution_count": 31,
   "metadata": {},
   "outputs": [
    {
     "name": "stdout",
     "output_type": "stream",
     "text": [
      "Stratified K-Fold Cross-validation scores: 0.787\n"
     ]
    }
   ],
   "source": [
    "logreg = LogisticRegression(solver='saga', max_iter=1000, penalty=\"l2\")\n",
    "scores = cross_val_score(logreg, X_train, y_train, cv=skfold)\n",
    "print(\"Stratified K-Fold Cross-validation scores: {:.3f}\".format(scores.mean()))"
   ]
  },
  {
   "cell_type": "code",
   "execution_count": 32,
   "metadata": {},
   "outputs": [
    {
     "name": "stdout",
     "output_type": "stream",
     "text": [
      "Fitting 5 folds for each of 12 candidates, totalling 60 fits\n",
      "[CV 1/5] END ...............C=0.001, penalty=l1;, score=0.776 total time=   0.4s\n",
      "[CV 2/5] END ...............C=0.001, penalty=l1;, score=0.787 total time=   0.4s\n",
      "[CV 3/5] END ...............C=0.001, penalty=l1;, score=0.799 total time=   0.4s\n",
      "[CV 4/5] END ...............C=0.001, penalty=l1;, score=0.772 total time=   0.4s\n",
      "[CV 5/5] END ...............C=0.001, penalty=l1;, score=0.806 total time=   0.4s\n",
      "[CV 1/5] END ...............C=0.001, penalty=l2;, score=0.776 total time=   0.8s\n",
      "[CV 2/5] END ...............C=0.001, penalty=l2;, score=0.784 total time=   0.7s\n",
      "[CV 3/5] END ...............C=0.001, penalty=l2;, score=0.788 total time=   0.7s\n",
      "[CV 4/5] END ...............C=0.001, penalty=l2;, score=0.776 total time=   0.7s\n",
      "[CV 5/5] END ...............C=0.001, penalty=l2;, score=0.809 total time=   0.8s\n",
      "[CV 1/5] END ................C=0.01, penalty=l1;, score=0.775 total time=   0.4s\n",
      "[CV 2/5] END ................C=0.01, penalty=l1;, score=0.786 total time=   0.5s\n",
      "[CV 3/5] END ................C=0.01, penalty=l1;, score=0.790 total time=   0.5s\n",
      "[CV 4/5] END ................C=0.01, penalty=l1;, score=0.775 total time=   0.5s\n",
      "[CV 5/5] END ................C=0.01, penalty=l1;, score=0.807 total time=   0.5s\n",
      "[CV 1/5] END ................C=0.01, penalty=l2;, score=0.780 total time=   0.9s\n",
      "[CV 2/5] END ................C=0.01, penalty=l2;, score=0.787 total time=   0.9s\n",
      "[CV 3/5] END ................C=0.01, penalty=l2;, score=0.793 total time=   0.9s\n",
      "[CV 4/5] END ................C=0.01, penalty=l2;, score=0.772 total time=   0.9s\n",
      "[CV 5/5] END ................C=0.01, penalty=l2;, score=0.807 total time=   1.0s\n",
      "[CV 1/5] END .................C=0.1, penalty=l1;, score=0.784 total time=   1.3s\n",
      "[CV 2/5] END .................C=0.1, penalty=l1;, score=0.785 total time=   1.4s\n"
     ]
    },
    {
     "name": "stderr",
     "output_type": "stream",
     "text": [
      "C:\\Users\\HP\\AppData\\Roaming\\Python\\Python39\\site-packages\\sklearn\\linear_model\\_sag.py:350: ConvergenceWarning: The max_iter was reached which means the coef_ did not converge\n",
      "  warnings.warn(\n"
     ]
    },
    {
     "name": "stdout",
     "output_type": "stream",
     "text": [
      "[CV 3/5] END .................C=0.1, penalty=l1;, score=0.790 total time=   2.1s\n"
     ]
    },
    {
     "name": "stderr",
     "output_type": "stream",
     "text": [
      "C:\\Users\\HP\\AppData\\Roaming\\Python\\Python39\\site-packages\\sklearn\\linear_model\\_sag.py:350: ConvergenceWarning: The max_iter was reached which means the coef_ did not converge\n",
      "  warnings.warn(\n"
     ]
    },
    {
     "name": "stdout",
     "output_type": "stream",
     "text": [
      "[CV 4/5] END .................C=0.1, penalty=l1;, score=0.772 total time=   1.3s\n"
     ]
    },
    {
     "name": "stderr",
     "output_type": "stream",
     "text": [
      "C:\\Users\\HP\\AppData\\Roaming\\Python\\Python39\\site-packages\\sklearn\\linear_model\\_sag.py:350: ConvergenceWarning: The max_iter was reached which means the coef_ did not converge\n",
      "  warnings.warn(\n"
     ]
    },
    {
     "name": "stdout",
     "output_type": "stream",
     "text": [
      "[CV 5/5] END .................C=0.1, penalty=l1;, score=0.808 total time=   1.3s\n",
      "[CV 1/5] END .................C=0.1, penalty=l2;, score=0.784 total time=   0.9s\n",
      "[CV 2/5] END .................C=0.1, penalty=l2;, score=0.782 total time=   0.8s\n"
     ]
    },
    {
     "name": "stderr",
     "output_type": "stream",
     "text": [
      "C:\\Users\\HP\\AppData\\Roaming\\Python\\Python39\\site-packages\\sklearn\\linear_model\\_sag.py:350: ConvergenceWarning: The max_iter was reached which means the coef_ did not converge\n",
      "  warnings.warn(\n"
     ]
    },
    {
     "name": "stdout",
     "output_type": "stream",
     "text": [
      "[CV 3/5] END .................C=0.1, penalty=l2;, score=0.787 total time=   1.1s\n",
      "[CV 4/5] END .................C=0.1, penalty=l2;, score=0.773 total time=   1.1s\n",
      "[CV 5/5] END .................C=0.1, penalty=l2;, score=0.810 total time=   1.1s\n",
      "[CV 1/5] END ...................C=1, penalty=l1;, score=0.786 total time=   0.6s\n",
      "[CV 2/5] END ...................C=1, penalty=l1;, score=0.781 total time=   0.6s\n",
      "[CV 3/5] END ...................C=1, penalty=l1;, score=0.787 total time=   1.3s\n",
      "[CV 4/5] END ...................C=1, penalty=l1;, score=0.774 total time=   1.2s\n",
      "[CV 5/5] END ...................C=1, penalty=l1;, score=0.806 total time=   1.1s\n",
      "[CV 1/5] END ...................C=1, penalty=l2;, score=0.785 total time=   0.4s\n",
      "[CV 2/5] END ...................C=1, penalty=l2;, score=0.781 total time=   0.4s\n",
      "[CV 3/5] END ...................C=1, penalty=l2;, score=0.787 total time=   1.0s\n",
      "[CV 4/5] END ...................C=1, penalty=l2;, score=0.775 total time=   0.9s\n",
      "[CV 5/5] END ...................C=1, penalty=l2;, score=0.806 total time=   0.9s\n",
      "[CV 1/5] END ..................C=10, penalty=l1;, score=0.786 total time=   0.5s\n",
      "[CV 2/5] END ..................C=10, penalty=l1;, score=0.781 total time=   0.5s\n",
      "[CV 3/5] END ..................C=10, penalty=l1;, score=0.787 total time=   1.2s\n",
      "[CV 4/5] END ..................C=10, penalty=l1;, score=0.775 total time=   1.2s\n",
      "[CV 5/5] END ..................C=10, penalty=l1;, score=0.806 total time=   1.1s\n",
      "[CV 1/5] END ..................C=10, penalty=l2;, score=0.786 total time=   0.4s\n",
      "[CV 2/5] END ..................C=10, penalty=l2;, score=0.781 total time=   0.4s\n",
      "[CV 3/5] END ..................C=10, penalty=l2;, score=0.787 total time=   1.0s\n",
      "[CV 4/5] END ..................C=10, penalty=l2;, score=0.775 total time=   0.9s\n",
      "[CV 5/5] END ..................C=10, penalty=l2;, score=0.806 total time=   0.9s\n",
      "[CV 1/5] END .................C=100, penalty=l1;, score=0.786 total time=   0.6s\n",
      "[CV 2/5] END .................C=100, penalty=l1;, score=0.781 total time=   0.6s\n",
      "[CV 3/5] END .................C=100, penalty=l1;, score=0.787 total time=   1.3s\n",
      "[CV 4/5] END .................C=100, penalty=l1;, score=0.775 total time=   1.1s\n",
      "[CV 5/5] END .................C=100, penalty=l1;, score=0.806 total time=   1.1s\n",
      "[CV 1/5] END .................C=100, penalty=l2;, score=0.786 total time=   0.4s\n",
      "[CV 2/5] END .................C=100, penalty=l2;, score=0.781 total time=   0.4s\n",
      "[CV 3/5] END .................C=100, penalty=l2;, score=0.787 total time=   1.0s\n",
      "[CV 4/5] END .................C=100, penalty=l2;, score=0.775 total time=   0.9s\n",
      "[CV 5/5] END .................C=100, penalty=l2;, score=0.806 total time=   0.9s\n",
      "Best parameters: {'C': 0.001, 'penalty': 'l1'}\n",
      "Best cross-validation score: 0.788\n"
     ]
    }
   ],
   "source": [
    "param_grid_lr = { 'C': [0.001, 0.01, 0.1, 1, 10, 100],\n",
    "                 'penalty' : [\"l1\", \"l2\"]}\n",
    "\n",
    "grid_search_lr = GridSearchCV(logreg, param_grid_lr, cv=skfold, verbose=3)\n",
    "grid_search_lr.fit(X_train, y_train)\n",
    "print(\"Best parameters: {}\".format(grid_search_lr.best_params_))\n",
    "print(\"Best cross-validation score: {:.3}\".format(grid_search_lr.best_score_))"
   ]
  },
  {
   "cell_type": "code",
   "execution_count": 33,
   "metadata": {},
   "outputs": [
    {
     "name": "stdout",
     "output_type": "stream",
     "text": [
      "Accuracy scores:  [0.7875893202787276]\n",
      "f1 scores:  [0.5156836602521095]\n",
      "Precision scores:  [0.6518301256222466]\n",
      "Recall scores:  [0.4269617840609241]\n"
     ]
    }
   ],
   "source": [
    "scoring = {'acc': 'accuracy',\n",
    "           'F1': 'f1',\n",
    "           'prec': 'precision',\n",
    "           'recall':'recall'}\n",
    " \n",
    "acc = []\n",
    "f1 = []\n",
    "prec = []\n",
    "recall = []\n",
    " \n",
    "logreg = grid_search_lr.best_estimator_\n",
    "scores = cross_validate(logreg, X, y, cv=kfold, scoring=scoring)\n",
    " \n",
    "acc.append(scores['test_acc'].mean())\n",
    "f1.append(scores['test_F1'].mean())\n",
    "prec.append(scores['test_prec'].mean())\n",
    "recall.append(scores['test_recall'].mean())\n",
    " \n",
    "print(\"Accuracy scores: \", acc)\n",
    "print(\"f1 scores: \", f1)\n",
    "print(\"Precision scores: \", prec)\n",
    "print(\"Recall scores: \", recall)"
   ]
  },
  {
   "cell_type": "code",
   "execution_count": 34,
   "metadata": {},
   "outputs": [
    {
     "name": "stdout",
     "output_type": "stream",
     "text": [
      "Accuracy score:  0.7903454803596782\n",
      "Recall score:  0.6845070422535211\n"
     ]
    }
   ],
   "source": [
    "# Terapkan pada data test\n",
    "logreg.fit(X_train, y_train)\n",
    "predictions = logreg.predict(X_test)\n",
    " \n",
    "print(\"Accuracy score: \", accuracy_score(predictions, y_test))\n",
    "print(\"Recall score: \", recall_score(predictions, y_test))"
   ]
  },
  {
   "cell_type": "code",
   "execution_count": 35,
   "metadata": {},
   "outputs": [
    {
     "name": "stdout",
     "output_type": "stream",
     "text": [
      "Accuracy of logistic regression classifier train data: 0.787\n",
      "Accuracy of logistic regression classifier test data: 0.790\n"
     ]
    }
   ],
   "source": [
    "print('Accuracy of logistic regression classifier train data: {:.3f}'.format(logreg.score(X_train, y_train)))\n",
    "print('Accuracy of logistic regression classifier test data: {:.3f}'.format(logreg.score(X_test, y_test)))"
   ]
  },
  {
   "cell_type": "markdown",
   "metadata": {
    "id": "XWt1w36Ob4vS"
   },
   "source": [
    "### SVM"
   ]
  },
  {
   "cell_type": "code",
   "execution_count": 36,
   "metadata": {
    "id": "7L5B_9t-b6nH"
   },
   "outputs": [
    {
     "data": {
      "text/html": [
       "<style>#sk-container-id-2 {color: black;background-color: white;}#sk-container-id-2 pre{padding: 0;}#sk-container-id-2 div.sk-toggleable {background-color: white;}#sk-container-id-2 label.sk-toggleable__label {cursor: pointer;display: block;width: 100%;margin-bottom: 0;padding: 0.3em;box-sizing: border-box;text-align: center;}#sk-container-id-2 label.sk-toggleable__label-arrow:before {content: \"▸\";float: left;margin-right: 0.25em;color: #696969;}#sk-container-id-2 label.sk-toggleable__label-arrow:hover:before {color: black;}#sk-container-id-2 div.sk-estimator:hover label.sk-toggleable__label-arrow:before {color: black;}#sk-container-id-2 div.sk-toggleable__content {max-height: 0;max-width: 0;overflow: hidden;text-align: left;background-color: #f0f8ff;}#sk-container-id-2 div.sk-toggleable__content pre {margin: 0.2em;color: black;border-radius: 0.25em;background-color: #f0f8ff;}#sk-container-id-2 input.sk-toggleable__control:checked~div.sk-toggleable__content {max-height: 200px;max-width: 100%;overflow: auto;}#sk-container-id-2 input.sk-toggleable__control:checked~label.sk-toggleable__label-arrow:before {content: \"▾\";}#sk-container-id-2 div.sk-estimator input.sk-toggleable__control:checked~label.sk-toggleable__label {background-color: #d4ebff;}#sk-container-id-2 div.sk-label input.sk-toggleable__control:checked~label.sk-toggleable__label {background-color: #d4ebff;}#sk-container-id-2 input.sk-hidden--visually {border: 0;clip: rect(1px 1px 1px 1px);clip: rect(1px, 1px, 1px, 1px);height: 1px;margin: -1px;overflow: hidden;padding: 0;position: absolute;width: 1px;}#sk-container-id-2 div.sk-estimator {font-family: monospace;background-color: #f0f8ff;border: 1px dotted black;border-radius: 0.25em;box-sizing: border-box;margin-bottom: 0.5em;}#sk-container-id-2 div.sk-estimator:hover {background-color: #d4ebff;}#sk-container-id-2 div.sk-parallel-item::after {content: \"\";width: 100%;border-bottom: 1px solid gray;flex-grow: 1;}#sk-container-id-2 div.sk-label:hover label.sk-toggleable__label {background-color: #d4ebff;}#sk-container-id-2 div.sk-serial::before {content: \"\";position: absolute;border-left: 1px solid gray;box-sizing: border-box;top: 0;bottom: 0;left: 50%;z-index: 0;}#sk-container-id-2 div.sk-serial {display: flex;flex-direction: column;align-items: center;background-color: white;padding-right: 0.2em;padding-left: 0.2em;position: relative;}#sk-container-id-2 div.sk-item {position: relative;z-index: 1;}#sk-container-id-2 div.sk-parallel {display: flex;align-items: stretch;justify-content: center;background-color: white;position: relative;}#sk-container-id-2 div.sk-item::before, #sk-container-id-2 div.sk-parallel-item::before {content: \"\";position: absolute;border-left: 1px solid gray;box-sizing: border-box;top: 0;bottom: 0;left: 50%;z-index: -1;}#sk-container-id-2 div.sk-parallel-item {display: flex;flex-direction: column;z-index: 1;position: relative;background-color: white;}#sk-container-id-2 div.sk-parallel-item:first-child::after {align-self: flex-end;width: 50%;}#sk-container-id-2 div.sk-parallel-item:last-child::after {align-self: flex-start;width: 50%;}#sk-container-id-2 div.sk-parallel-item:only-child::after {width: 0;}#sk-container-id-2 div.sk-dashed-wrapped {border: 1px dashed gray;margin: 0 0.4em 0.5em 0.4em;box-sizing: border-box;padding-bottom: 0.4em;background-color: white;}#sk-container-id-2 div.sk-label label {font-family: monospace;font-weight: bold;display: inline-block;line-height: 1.2em;}#sk-container-id-2 div.sk-label-container {text-align: center;}#sk-container-id-2 div.sk-container {/* jupyter's `normalize.less` sets `[hidden] { display: none; }` but bootstrap.min.css set `[hidden] { display: none !important; }` so we also need the `!important` here to be able to override the default hidden behavior on the sphinx rendered scikit-learn.org. See: https://github.com/scikit-learn/scikit-learn/issues/21755 */display: inline-block !important;position: relative;}#sk-container-id-2 div.sk-text-repr-fallback {display: none;}</style><div id=\"sk-container-id-2\" class=\"sk-top-container\"><div class=\"sk-text-repr-fallback\"><pre>SVC(kernel=&#x27;linear&#x27;)</pre><b>In a Jupyter environment, please rerun this cell to show the HTML representation or trust the notebook. <br />On GitHub, the HTML representation is unable to render, please try loading this page with nbviewer.org.</b></div><div class=\"sk-container\" hidden><div class=\"sk-item\"><div class=\"sk-estimator sk-toggleable\"><input class=\"sk-toggleable__control sk-hidden--visually\" id=\"sk-estimator-id-2\" type=\"checkbox\" checked><label for=\"sk-estimator-id-2\" class=\"sk-toggleable__label sk-toggleable__label-arrow\">SVC</label><div class=\"sk-toggleable__content\"><pre>SVC(kernel=&#x27;linear&#x27;)</pre></div></div></div></div></div>"
      ],
      "text/plain": [
       "SVC(kernel='linear')"
      ]
     },
     "execution_count": 36,
     "metadata": {},
     "output_type": "execute_result"
    }
   ],
   "source": [
    "# Create a svm Classifier\n",
    "clf = SVC(kernel='linear') # Linear Kernel\n",
    "clf.fit(X_train, y_train)"
   ]
  },
  {
   "cell_type": "code",
   "execution_count": 37,
   "metadata": {
    "id": "P_H4EfQib7b0"
   },
   "outputs": [
    {
     "name": "stdout",
     "output_type": "stream",
     "text": [
      "Accuracy of svm classifier:0.785\n",
      "Accuracy of svm classifier:0.794\n"
     ]
    }
   ],
   "source": [
    "print('Accuracy of svm classifier:{:.3f}'.format(clf.score(X_train, y_train)))\n",
    "print('Accuracy of svm classifier:{:.3f}'.format(clf.score(X_test, y_test)))"
   ]
  },
  {
   "cell_type": "markdown",
   "metadata": {},
   "source": [
    "Model validasi GridSearchCV"
   ]
  },
  {
   "cell_type": "code",
   "execution_count": 38,
   "metadata": {},
   "outputs": [
    {
     "name": "stdout",
     "output_type": "stream",
     "text": [
      "Fitting 5 folds for each of 42 candidates, totalling 210 fits\n",
      "[CV 1/5] END ..C=0.001, gamma=0.001, kernel=rbf;, score=0.735 total time=   2.9s\n",
      "[CV 2/5] END ..C=0.001, gamma=0.001, kernel=rbf;, score=0.733 total time=   3.0s\n",
      "[CV 3/5] END ..C=0.001, gamma=0.001, kernel=rbf;, score=0.725 total time=   2.9s\n",
      "[CV 4/5] END ..C=0.001, gamma=0.001, kernel=rbf;, score=0.733 total time=   2.9s\n",
      "[CV 5/5] END ..C=0.001, gamma=0.001, kernel=rbf;, score=0.747 total time=   2.9s\n",
      "[CV 1/5] END ...C=0.001, gamma=0.01, kernel=rbf;, score=0.735 total time=   2.8s\n",
      "[CV 2/5] END ...C=0.001, gamma=0.01, kernel=rbf;, score=0.733 total time=   2.9s\n",
      "[CV 3/5] END ...C=0.001, gamma=0.01, kernel=rbf;, score=0.725 total time=   2.8s\n",
      "[CV 4/5] END ...C=0.001, gamma=0.01, kernel=rbf;, score=0.733 total time=   2.9s\n",
      "[CV 5/5] END ...C=0.001, gamma=0.01, kernel=rbf;, score=0.747 total time=   3.0s\n",
      "[CV 1/5] END ....C=0.001, gamma=0.1, kernel=rbf;, score=0.735 total time=   3.1s\n",
      "[CV 2/5] END ....C=0.001, gamma=0.1, kernel=rbf;, score=0.733 total time=   3.0s\n",
      "[CV 3/5] END ....C=0.001, gamma=0.1, kernel=rbf;, score=0.725 total time=   3.1s\n",
      "[CV 4/5] END ....C=0.001, gamma=0.1, kernel=rbf;, score=0.733 total time=   3.0s\n",
      "[CV 5/5] END ....C=0.001, gamma=0.1, kernel=rbf;, score=0.747 total time=   3.1s\n",
      "[CV 1/5] END ......C=0.001, gamma=1, kernel=rbf;, score=0.735 total time=   4.2s\n",
      "[CV 2/5] END ......C=0.001, gamma=1, kernel=rbf;, score=0.733 total time=   4.3s\n",
      "[CV 3/5] END ......C=0.001, gamma=1, kernel=rbf;, score=0.725 total time=   4.3s\n",
      "[CV 4/5] END ......C=0.001, gamma=1, kernel=rbf;, score=0.733 total time=   4.2s\n",
      "[CV 5/5] END ......C=0.001, gamma=1, kernel=rbf;, score=0.747 total time=   4.3s\n",
      "[CV 1/5] END .....C=0.001, gamma=10, kernel=rbf;, score=0.735 total time=   4.8s\n",
      "[CV 2/5] END .....C=0.001, gamma=10, kernel=rbf;, score=0.733 total time=   5.0s\n",
      "[CV 3/5] END .....C=0.001, gamma=10, kernel=rbf;, score=0.725 total time=   4.9s\n",
      "[CV 4/5] END .....C=0.001, gamma=10, kernel=rbf;, score=0.733 total time=   4.9s\n",
      "[CV 5/5] END .....C=0.001, gamma=10, kernel=rbf;, score=0.747 total time=   5.1s\n",
      "[CV 1/5] END ....C=0.001, gamma=100, kernel=rbf;, score=0.735 total time=   6.2s\n",
      "[CV 2/5] END ....C=0.001, gamma=100, kernel=rbf;, score=0.733 total time=   6.1s\n",
      "[CV 3/5] END ....C=0.001, gamma=100, kernel=rbf;, score=0.725 total time=   6.0s\n",
      "[CV 4/5] END ....C=0.001, gamma=100, kernel=rbf;, score=0.733 total time=   6.0s\n",
      "[CV 5/5] END ....C=0.001, gamma=100, kernel=rbf;, score=0.747 total time=   6.2s\n",
      "[CV 1/5] END ...C=0.01, gamma=0.001, kernel=rbf;, score=0.789 total time=   3.2s\n",
      "[CV 2/5] END ...C=0.01, gamma=0.001, kernel=rbf;, score=0.779 total time=   3.1s\n",
      "[CV 3/5] END ...C=0.01, gamma=0.001, kernel=rbf;, score=0.776 total time=   3.1s\n",
      "[CV 4/5] END ...C=0.01, gamma=0.001, kernel=rbf;, score=0.785 total time=   3.1s\n",
      "[CV 5/5] END ...C=0.01, gamma=0.001, kernel=rbf;, score=0.795 total time=   3.2s\n",
      "[CV 1/5] END ....C=0.01, gamma=0.01, kernel=rbf;, score=0.773 total time=   3.3s\n",
      "[CV 2/5] END ....C=0.01, gamma=0.01, kernel=rbf;, score=0.765 total time=   3.2s\n",
      "[CV 3/5] END ....C=0.01, gamma=0.01, kernel=rbf;, score=0.752 total time=   3.2s\n",
      "[CV 4/5] END ....C=0.01, gamma=0.01, kernel=rbf;, score=0.760 total time=   3.3s\n",
      "[CV 5/5] END ....C=0.01, gamma=0.01, kernel=rbf;, score=0.786 total time=   3.3s\n",
      "[CV 1/5] END .....C=0.01, gamma=0.1, kernel=rbf;, score=0.735 total time=   3.9s\n",
      "[CV 2/5] END .....C=0.01, gamma=0.1, kernel=rbf;, score=0.733 total time=   3.8s\n",
      "[CV 3/5] END .....C=0.01, gamma=0.1, kernel=rbf;, score=0.725 total time=   3.8s\n",
      "[CV 4/5] END .....C=0.01, gamma=0.1, kernel=rbf;, score=0.733 total time=   3.8s\n",
      "[CV 5/5] END .....C=0.01, gamma=0.1, kernel=rbf;, score=0.747 total time=   3.9s\n",
      "[CV 1/5] END .......C=0.01, gamma=1, kernel=rbf;, score=0.735 total time=   6.8s\n",
      "[CV 2/5] END .......C=0.01, gamma=1, kernel=rbf;, score=0.733 total time=   6.8s\n",
      "[CV 3/5] END .......C=0.01, gamma=1, kernel=rbf;, score=0.725 total time=   6.8s\n",
      "[CV 4/5] END .......C=0.01, gamma=1, kernel=rbf;, score=0.733 total time=   7.1s\n",
      "[CV 5/5] END .......C=0.01, gamma=1, kernel=rbf;, score=0.747 total time=   6.9s\n",
      "[CV 1/5] END ......C=0.01, gamma=10, kernel=rbf;, score=0.735 total time=   8.1s\n",
      "[CV 2/5] END ......C=0.01, gamma=10, kernel=rbf;, score=0.733 total time=   7.7s\n",
      "[CV 3/5] END ......C=0.01, gamma=10, kernel=rbf;, score=0.725 total time=   8.1s\n",
      "[CV 4/5] END ......C=0.01, gamma=10, kernel=rbf;, score=0.733 total time=   7.7s\n",
      "[CV 5/5] END ......C=0.01, gamma=10, kernel=rbf;, score=0.747 total time=   6.9s\n",
      "[CV 1/5] END .....C=0.01, gamma=100, kernel=rbf;, score=0.735 total time=   8.8s\n",
      "[CV 2/5] END .....C=0.01, gamma=100, kernel=rbf;, score=0.733 total time=   9.2s\n",
      "[CV 3/5] END .....C=0.01, gamma=100, kernel=rbf;, score=0.725 total time=   7.9s\n",
      "[CV 4/5] END .....C=0.01, gamma=100, kernel=rbf;, score=0.733 total time=   3.6s\n",
      "[CV 5/5] END .....C=0.01, gamma=100, kernel=rbf;, score=0.747 total time=   5.9s\n",
      "[CV 1/5] END ....C=0.1, gamma=0.001, kernel=rbf;, score=0.801 total time=   3.1s\n",
      "[CV 2/5] END ....C=0.1, gamma=0.001, kernel=rbf;, score=0.792 total time=   3.0s\n",
      "[CV 3/5] END ....C=0.1, gamma=0.001, kernel=rbf;, score=0.776 total time=   2.9s\n",
      "[CV 4/5] END ....C=0.1, gamma=0.001, kernel=rbf;, score=0.786 total time=   3.2s\n",
      "[CV 5/5] END ....C=0.1, gamma=0.001, kernel=rbf;, score=0.794 total time=   2.3s\n",
      "[CV 1/5] END .....C=0.1, gamma=0.01, kernel=rbf;, score=0.799 total time=   3.0s\n",
      "[CV 2/5] END .....C=0.1, gamma=0.01, kernel=rbf;, score=0.794 total time=   3.9s\n",
      "[CV 3/5] END .....C=0.1, gamma=0.01, kernel=rbf;, score=0.780 total time=   3.5s\n",
      "[CV 4/5] END .....C=0.1, gamma=0.01, kernel=rbf;, score=0.786 total time=   3.3s\n",
      "[CV 5/5] END .....C=0.1, gamma=0.01, kernel=rbf;, score=0.791 total time=   3.1s\n",
      "[CV 1/5] END ......C=0.1, gamma=0.1, kernel=rbf;, score=0.784 total time=   4.4s\n",
      "[CV 2/5] END ......C=0.1, gamma=0.1, kernel=rbf;, score=0.791 total time=   4.4s\n",
      "[CV 3/5] END ......C=0.1, gamma=0.1, kernel=rbf;, score=0.766 total time=   4.2s\n",
      "[CV 4/5] END ......C=0.1, gamma=0.1, kernel=rbf;, score=0.776 total time=   4.4s\n",
      "[CV 5/5] END ......C=0.1, gamma=0.1, kernel=rbf;, score=0.795 total time=   4.8s\n",
      "[CV 1/5] END ........C=0.1, gamma=1, kernel=rbf;, score=0.741 total time=   9.2s\n",
      "[CV 2/5] END ........C=0.1, gamma=1, kernel=rbf;, score=0.740 total time=   8.3s\n",
      "[CV 3/5] END ........C=0.1, gamma=1, kernel=rbf;, score=0.731 total time=   7.5s\n",
      "[CV 4/5] END ........C=0.1, gamma=1, kernel=rbf;, score=0.739 total time=   9.9s\n",
      "[CV 5/5] END ........C=0.1, gamma=1, kernel=rbf;, score=0.751 total time=   8.4s\n",
      "[CV 1/5] END .......C=0.1, gamma=10, kernel=rbf;, score=0.735 total time=   9.3s\n",
      "[CV 2/5] END .......C=0.1, gamma=10, kernel=rbf;, score=0.733 total time=   7.9s\n",
      "[CV 3/5] END .......C=0.1, gamma=10, kernel=rbf;, score=0.725 total time=   7.9s\n",
      "[CV 4/5] END .......C=0.1, gamma=10, kernel=rbf;, score=0.733 total time=   8.3s\n",
      "[CV 5/5] END .......C=0.1, gamma=10, kernel=rbf;, score=0.747 total time=   9.3s\n",
      "[CV 1/5] END ......C=0.1, gamma=100, kernel=rbf;, score=0.735 total time=   8.1s\n",
      "[CV 2/5] END ......C=0.1, gamma=100, kernel=rbf;, score=0.733 total time=   8.1s\n",
      "[CV 3/5] END ......C=0.1, gamma=100, kernel=rbf;, score=0.725 total time=   8.1s\n",
      "[CV 4/5] END ......C=0.1, gamma=100, kernel=rbf;, score=0.733 total time=   8.2s\n",
      "[CV 5/5] END ......C=0.1, gamma=100, kernel=rbf;, score=0.747 total time=   8.1s\n",
      "[CV 1/5] END ......C=1, gamma=0.001, kernel=rbf;, score=0.801 total time=   3.1s\n",
      "[CV 2/5] END ......C=1, gamma=0.001, kernel=rbf;, score=0.793 total time=   3.2s\n",
      "[CV 3/5] END ......C=1, gamma=0.001, kernel=rbf;, score=0.779 total time=   3.7s\n",
      "[CV 4/5] END ......C=1, gamma=0.001, kernel=rbf;, score=0.782 total time=   3.2s\n",
      "[CV 5/5] END ......C=1, gamma=0.001, kernel=rbf;, score=0.793 total time=   3.1s\n",
      "[CV 1/5] END .......C=1, gamma=0.01, kernel=rbf;, score=0.807 total time=   3.8s\n",
      "[CV 2/5] END .......C=1, gamma=0.01, kernel=rbf;, score=0.796 total time=   3.7s\n",
      "[CV 3/5] END .......C=1, gamma=0.01, kernel=rbf;, score=0.783 total time=   3.5s\n",
      "[CV 4/5] END .......C=1, gamma=0.01, kernel=rbf;, score=0.787 total time=   3.7s\n",
      "[CV 5/5] END .......C=1, gamma=0.01, kernel=rbf;, score=0.790 total time=   3.6s\n",
      "[CV 1/5] END ........C=1, gamma=0.1, kernel=rbf;, score=0.793 total time=   4.0s\n",
      "[CV 2/5] END ........C=1, gamma=0.1, kernel=rbf;, score=0.798 total time=   4.0s\n",
      "[CV 3/5] END ........C=1, gamma=0.1, kernel=rbf;, score=0.768 total time=   4.0s\n",
      "[CV 4/5] END ........C=1, gamma=0.1, kernel=rbf;, score=0.786 total time=   3.9s\n",
      "[CV 5/5] END ........C=1, gamma=0.1, kernel=rbf;, score=0.789 total time=   3.9s\n",
      "[CV 1/5] END ..........C=1, gamma=1, kernel=rbf;, score=0.774 total time=   7.9s\n",
      "[CV 2/5] END ..........C=1, gamma=1, kernel=rbf;, score=0.776 total time=   8.6s\n",
      "[CV 3/5] END ..........C=1, gamma=1, kernel=rbf;, score=0.762 total time=   7.9s\n",
      "[CV 4/5] END ..........C=1, gamma=1, kernel=rbf;, score=0.771 total time=   8.2s\n",
      "[CV 5/5] END ..........C=1, gamma=1, kernel=rbf;, score=0.788 total time=   8.1s\n",
      "[CV 1/5] END .........C=1, gamma=10, kernel=rbf;, score=0.750 total time=   8.6s\n",
      "[CV 2/5] END .........C=1, gamma=10, kernel=rbf;, score=0.747 total time=   8.6s\n",
      "[CV 3/5] END .........C=1, gamma=10, kernel=rbf;, score=0.737 total time=   8.3s\n",
      "[CV 4/5] END .........C=1, gamma=10, kernel=rbf;, score=0.749 total time=   8.3s\n",
      "[CV 5/5] END .........C=1, gamma=10, kernel=rbf;, score=0.764 total time=   7.5s\n",
      "[CV 1/5] END ........C=1, gamma=100, kernel=rbf;, score=0.740 total time=   4.8s\n",
      "[CV 2/5] END ........C=1, gamma=100, kernel=rbf;, score=0.737 total time=   5.6s\n",
      "[CV 3/5] END ........C=1, gamma=100, kernel=rbf;, score=0.732 total time=   8.7s\n",
      "[CV 4/5] END ........C=1, gamma=100, kernel=rbf;, score=0.742 total time=   8.5s\n",
      "[CV 5/5] END ........C=1, gamma=100, kernel=rbf;, score=0.757 total time=   8.6s\n",
      "[CV 1/5] END .....C=10, gamma=0.001, kernel=rbf;, score=0.803 total time=   3.9s\n",
      "[CV 2/5] END .....C=10, gamma=0.001, kernel=rbf;, score=0.796 total time=   3.9s\n",
      "[CV 3/5] END .....C=10, gamma=0.001, kernel=rbf;, score=0.784 total time=   3.6s\n",
      "[CV 4/5] END .....C=10, gamma=0.001, kernel=rbf;, score=0.784 total time=   4.0s\n",
      "[CV 5/5] END .....C=10, gamma=0.001, kernel=rbf;, score=0.797 total time=   3.6s\n",
      "[CV 1/5] END ......C=10, gamma=0.01, kernel=rbf;, score=0.807 total time=   4.9s\n",
      "[CV 2/5] END ......C=10, gamma=0.01, kernel=rbf;, score=0.795 total time=   4.7s\n",
      "[CV 3/5] END ......C=10, gamma=0.01, kernel=rbf;, score=0.782 total time=   4.5s\n",
      "[CV 4/5] END ......C=10, gamma=0.01, kernel=rbf;, score=0.785 total time=   5.6s\n",
      "[CV 5/5] END ......C=10, gamma=0.01, kernel=rbf;, score=0.789 total time=   5.9s\n",
      "[CV 1/5] END .......C=10, gamma=0.1, kernel=rbf;, score=0.780 total time=   4.2s\n",
      "[CV 2/5] END .......C=10, gamma=0.1, kernel=rbf;, score=0.762 total time=   4.1s\n",
      "[CV 3/5] END .......C=10, gamma=0.1, kernel=rbf;, score=0.747 total time=   4.2s\n",
      "[CV 4/5] END .......C=10, gamma=0.1, kernel=rbf;, score=0.763 total time=   4.3s\n",
      "[CV 5/5] END .......C=10, gamma=0.1, kernel=rbf;, score=0.763 total time=   4.0s\n",
      "[CV 1/5] END .........C=10, gamma=1, kernel=rbf;, score=0.770 total time=   9.7s\n",
      "[CV 2/5] END .........C=10, gamma=1, kernel=rbf;, score=0.767 total time=   9.5s\n",
      "[CV 3/5] END .........C=10, gamma=1, kernel=rbf;, score=0.749 total time=   9.4s\n",
      "[CV 4/5] END .........C=10, gamma=1, kernel=rbf;, score=0.770 total time=  10.1s\n",
      "[CV 5/5] END .........C=10, gamma=1, kernel=rbf;, score=0.773 total time=  11.2s\n",
      "[CV 1/5] END ........C=10, gamma=10, kernel=rbf;, score=0.749 total time=   8.9s\n",
      "[CV 2/5] END ........C=10, gamma=10, kernel=rbf;, score=0.741 total time=   8.5s\n",
      "[CV 3/5] END ........C=10, gamma=10, kernel=rbf;, score=0.737 total time=  11.9s\n",
      "[CV 4/5] END ........C=10, gamma=10, kernel=rbf;, score=0.751 total time=  12.2s\n",
      "[CV 5/5] END ........C=10, gamma=10, kernel=rbf;, score=0.765 total time=  11.0s\n",
      "[CV 1/5] END .......C=10, gamma=100, kernel=rbf;, score=0.741 total time=   8.7s\n",
      "[CV 2/5] END .......C=10, gamma=100, kernel=rbf;, score=0.735 total time=   8.9s\n",
      "[CV 3/5] END .......C=10, gamma=100, kernel=rbf;, score=0.735 total time=   8.9s\n",
      "[CV 4/5] END .......C=10, gamma=100, kernel=rbf;, score=0.743 total time=   8.9s\n",
      "[CV 5/5] END .......C=10, gamma=100, kernel=rbf;, score=0.756 total time=   9.0s\n",
      "[CV 1/5] END ....C=100, gamma=0.001, kernel=rbf;, score=0.799 total time=   8.3s\n",
      "[CV 2/5] END ....C=100, gamma=0.001, kernel=rbf;, score=0.798 total time=   8.7s\n",
      "[CV 3/5] END ....C=100, gamma=0.001, kernel=rbf;, score=0.786 total time=   7.1s\n",
      "[CV 4/5] END ....C=100, gamma=0.001, kernel=rbf;, score=0.788 total time=   7.5s\n",
      "[CV 5/5] END ....C=100, gamma=0.001, kernel=rbf;, score=0.794 total time=   7.0s\n",
      "[CV 1/5] END .....C=100, gamma=0.01, kernel=rbf;, score=0.802 total time=   9.1s\n",
      "[CV 2/5] END .....C=100, gamma=0.01, kernel=rbf;, score=0.801 total time=   9.1s\n",
      "[CV 3/5] END .....C=100, gamma=0.01, kernel=rbf;, score=0.774 total time=   8.3s\n",
      "[CV 4/5] END .....C=100, gamma=0.01, kernel=rbf;, score=0.781 total time=   9.1s\n",
      "[CV 5/5] END .....C=100, gamma=0.01, kernel=rbf;, score=0.792 total time=   8.2s\n",
      "[CV 1/5] END ......C=100, gamma=0.1, kernel=rbf;, score=0.748 total time=   6.7s\n",
      "[CV 2/5] END ......C=100, gamma=0.1, kernel=rbf;, score=0.730 total time=   7.0s\n",
      "[CV 3/5] END ......C=100, gamma=0.1, kernel=rbf;, score=0.722 total time=   6.9s\n",
      "[CV 4/5] END ......C=100, gamma=0.1, kernel=rbf;, score=0.737 total time=   8.4s\n",
      "[CV 5/5] END ......C=100, gamma=0.1, kernel=rbf;, score=0.734 total time=   8.7s\n",
      "[CV 1/5] END ........C=100, gamma=1, kernel=rbf;, score=0.756 total time=  11.1s\n",
      "[CV 2/5] END ........C=100, gamma=1, kernel=rbf;, score=0.756 total time=  11.9s\n",
      "[CV 3/5] END ........C=100, gamma=1, kernel=rbf;, score=0.739 total time=  11.4s\n",
      "[CV 4/5] END ........C=100, gamma=1, kernel=rbf;, score=0.755 total time=  11.2s\n",
      "[CV 5/5] END ........C=100, gamma=1, kernel=rbf;, score=0.768 total time=  11.8s\n",
      "[CV 1/5] END .......C=100, gamma=10, kernel=rbf;, score=0.747 total time=   9.5s\n",
      "[CV 2/5] END .......C=100, gamma=10, kernel=rbf;, score=0.739 total time=  11.0s\n",
      "[CV 3/5] END .......C=100, gamma=10, kernel=rbf;, score=0.735 total time=  12.8s\n",
      "[CV 4/5] END .......C=100, gamma=10, kernel=rbf;, score=0.749 total time=   8.9s\n",
      "[CV 5/5] END .......C=100, gamma=10, kernel=rbf;, score=0.761 total time=   9.2s\n",
      "[CV 1/5] END ......C=100, gamma=100, kernel=rbf;, score=0.741 total time=   9.0s\n",
      "[CV 2/5] END ......C=100, gamma=100, kernel=rbf;, score=0.735 total time=  11.6s\n",
      "[CV 3/5] END ......C=100, gamma=100, kernel=rbf;, score=0.735 total time=   9.2s\n",
      "[CV 4/5] END ......C=100, gamma=100, kernel=rbf;, score=0.742 total time=   8.8s\n",
      "[CV 5/5] END ......C=100, gamma=100, kernel=rbf;, score=0.756 total time=   9.2s\n",
      "[CV 1/5] END ............C=0.001, kernel=linear;, score=0.794 total time=   2.1s\n",
      "[CV 2/5] END ............C=0.001, kernel=linear;, score=0.795 total time=   1.8s\n",
      "[CV 3/5] END ............C=0.001, kernel=linear;, score=0.774 total time=   1.8s\n",
      "[CV 4/5] END ............C=0.001, kernel=linear;, score=0.772 total time=   2.3s\n",
      "[CV 5/5] END ............C=0.001, kernel=linear;, score=0.774 total time=   1.6s\n",
      "[CV 1/5] END .............C=0.01, kernel=linear;, score=0.798 total time=   2.7s\n",
      "[CV 2/5] END .............C=0.01, kernel=linear;, score=0.798 total time=   2.2s\n",
      "[CV 3/5] END .............C=0.01, kernel=linear;, score=0.771 total time=   2.0s\n",
      "[CV 4/5] END .............C=0.01, kernel=linear;, score=0.776 total time=   2.6s\n",
      "[CV 5/5] END .............C=0.01, kernel=linear;, score=0.786 total time=   2.8s\n",
      "[CV 1/5] END ..............C=0.1, kernel=linear;, score=0.800 total time=   7.2s\n",
      "[CV 2/5] END ..............C=0.1, kernel=linear;, score=0.796 total time=   6.5s\n",
      "[CV 3/5] END ..............C=0.1, kernel=linear;, score=0.772 total time=   5.8s\n",
      "[CV 4/5] END ..............C=0.1, kernel=linear;, score=0.772 total time=   5.5s\n",
      "[CV 5/5] END ..............C=0.1, kernel=linear;, score=0.788 total time=   6.2s\n",
      "[CV 1/5] END ................C=1, kernel=linear;, score=0.802 total time=  28.7s\n",
      "[CV 2/5] END ................C=1, kernel=linear;, score=0.796 total time=  29.5s\n",
      "[CV 3/5] END ................C=1, kernel=linear;, score=0.773 total time=  24.1s\n",
      "[CV 4/5] END ................C=1, kernel=linear;, score=0.771 total time=  26.4s\n",
      "[CV 5/5] END ................C=1, kernel=linear;, score=0.788 total time=  29.4s\n",
      "[CV 1/5] END ...............C=10, kernel=linear;, score=0.801 total time= 2.3min\n",
      "[CV 2/5] END ...............C=10, kernel=linear;, score=0.798 total time= 2.7min\n",
      "[CV 3/5] END ...............C=10, kernel=linear;, score=0.772 total time= 2.5min\n",
      "[CV 4/5] END ...............C=10, kernel=linear;, score=0.776 total time= 2.5min\n",
      "[CV 5/5] END ...............C=10, kernel=linear;, score=0.788 total time= 2.4min\n",
      "[CV 1/5] END ..............C=100, kernel=linear;, score=0.796 total time= 2.4min\n",
      "[CV 2/5] END ..............C=100, kernel=linear;, score=0.791 total time= 1.7min\n",
      "[CV 3/5] END ..............C=100, kernel=linear;, score=0.778 total time= 1.4min\n",
      "[CV 4/5] END ..............C=100, kernel=linear;, score=0.789 total time= 1.6min\n",
      "[CV 5/5] END ..............C=100, kernel=linear;, score=0.794 total time= 1.7min\n",
      "Best parameters:{'C': 100, 'gamma': 0.001, 'kernel': 'rbf'}\n",
      "Best GridSearchCV validation score:0.793\n"
     ]
    }
   ],
   "source": [
    "# Menggunakan GridSearchCV dan cross-validation dalam model SVM\n",
    "param_grid_svm = [{'kernel': ['rbf'],\n",
    "'C': [0.001, 0.01, 0.1, 1, 10, 100],\n",
    "'gamma': [0.001, 0.01, 0.1, 1, 10, 100]},\n",
    "{'kernel': ['linear'],\n",
    "'C': [0.001, 0.01, 0.1, 1, 10, 100]}]\n",
    "grid_search_svm = GridSearchCV(SVC(), param_grid_svm,cv=kfold, verbose=3)\n",
    "grid_search_svm.fit(X, y)\n",
    "print('Best parameters:{}'.format(grid_search_svm.best_params_))\n",
    "print('Best GridSearchCV validation score:{:.3}'.format(grid_search_svm.best_score_))"
   ]
  },
  {
   "cell_type": "code",
   "execution_count": 43,
   "metadata": {},
   "outputs": [
    {
     "name": "stdout",
     "output_type": "stream",
     "text": [
      "Accuracy scores:  [0.7880152550164526]\n",
      "f1 scores:  [0.5168077454882073]\n",
      "Precision scores:  [0.6529275549397525]\n",
      "Recall scores:  [0.4280298919840317]\n"
     ]
    }
   ],
   "source": [
    "scoring = {'acc': 'accuracy',\n",
    "           'F1': 'f1',\n",
    "           'prec': 'precision',\n",
    "           'recall':'recall'}\n",
    " \n",
    "acc = []\n",
    "f1 = []\n",
    "prec = []\n",
    "recall = []\n",
    " \n",
    "clf = SVC(C=100, kernel='rbf', gamma=0.001)\n",
    "clf.fit(X_train, y_train)\n",
    "scores = cross_validate(logreg, X, y, cv=kfold, scoring=scoring)\n",
    "\n",
    "\n",
    " \n",
    "acc.append(scores['test_acc'].mean())\n",
    "f1.append(scores['test_F1'].mean())\n",
    "prec.append(scores['test_prec'].mean())\n",
    "recall.append(scores['test_recall'].mean())\n",
    " \n",
    "print(\"Accuracy scores: \", acc)\n",
    "print(\"f1 scores: \", f1)\n",
    "print(\"Precision scores: \", prec)\n",
    "print(\"Recall scores: \", recall)"
   ]
  },
  {
   "cell_type": "markdown",
   "metadata": {
    "id": "sgiQLR8pcKAy"
   },
   "source": [
    "Bagaimana akurasi model SVM?"
   ]
  },
  {
   "cell_type": "code",
   "execution_count": 44,
   "metadata": {
    "id": "Nfhlnmeqb7e5"
   },
   "outputs": [
    {
     "name": "stdout",
     "output_type": "stream",
     "text": [
      "Accuracy of svm classifier:0.796\n",
      "Accuracy of svm classifier:0.792\n"
     ]
    }
   ],
   "source": [
    "print('Accuracy of svm classifier:{:.3f}'.format(clf.score(X_train, y_train)))\n",
    "print('Accuracy of svm classifier:{:.3f}'.format(clf.score(X_test, y_test)))"
   ]
  },
  {
   "cell_type": "markdown",
   "metadata": {
    "id": "AkDsVWPab8S4"
   },
   "source": [
    "### Model Validation SVM"
   ]
  },
  {
   "cell_type": "markdown",
   "metadata": {
    "id": "41JoXixycPZM"
   },
   "source": [
    "Bagaimana hasil model validation dengan KFold, StratifiedKFold, dan GridSearchCV?"
   ]
  },
  {
   "cell_type": "markdown",
   "metadata": {},
   "source": [
    "Model validation dengan KFold cross validation"
   ]
  },
  {
   "cell_type": "code",
   "execution_count": 45,
   "metadata": {
    "id": "HIRan5G-cOMY"
   },
   "outputs": [
    {
     "name": "stdout",
     "output_type": "stream",
     "text": [
      "Cross-validation scores: 0.792\n"
     ]
    }
   ],
   "source": [
    "#KFold\n",
    "# Memilih k-fold (dipilih k = 5)\n",
    "kfold = KFold(n_splits=5, shuffle=True, random_state=42)\n",
    "scores = cross_val_score(clf, X_train, y_train, cv=kfold)\n",
    "print('Cross-validation scores: {:.3f}'.format(scores.mean()))"
   ]
  },
  {
   "cell_type": "markdown",
   "metadata": {},
   "source": [
    "Model validation dengan Stratified KFold Cross Validation"
   ]
  },
  {
   "cell_type": "code",
   "execution_count": 46,
   "metadata": {
    "id": "lRaS8ug1b_F1"
   },
   "outputs": [
    {
     "name": "stdout",
     "output_type": "stream",
     "text": [
      "Stratified K-Fold Cross-validation scores: 0.789\n"
     ]
    }
   ],
   "source": [
    "#Stratified KFold \n",
    "skfold = StratifiedKFold(n_splits=5, shuffle=True, random_state=42)\n",
    "scores = cross_val_score(clf, X_train, y_train, cv=skfold)\n",
    "print(\"Stratified K-Fold Cross-validation scores: {:.3f}\".format(scores.mean()))"
   ]
  },
  {
   "cell_type": "code",
   "execution_count": null,
   "metadata": {},
   "outputs": [],
   "source": []
  }
 ],
 "metadata": {
  "colab": {
   "collapsed_sections": [],
   "name": "Breakout room Meet 16 Classification and Model Validation.ipynb",
   "provenance": []
  },
  "kernelspec": {
   "display_name": "Python 3 (ipykernel)",
   "language": "python",
   "name": "python3"
  },
  "language_info": {
   "codemirror_mode": {
    "name": "ipython",
    "version": 3
   },
   "file_extension": ".py",
   "mimetype": "text/x-python",
   "name": "python",
   "nbconvert_exporter": "python",
   "pygments_lexer": "ipython3",
   "version": "3.9.7"
  }
 },
 "nbformat": 4,
 "nbformat_minor": 1
}
